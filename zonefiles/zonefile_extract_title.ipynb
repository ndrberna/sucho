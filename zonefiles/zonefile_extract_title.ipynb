{
 "cells": [
  {
   "cell_type": "code",
   "execution_count": 1,
   "id": "92704935",
   "metadata": {
    "ExecuteTime": {
     "end_time": "2022-04-18T15:27:12.624600Z",
     "start_time": "2022-04-18T15:27:11.630210Z"
    }
   },
   "outputs": [],
   "source": [
    "#!pip install googletrans\n",
    "#! pip install ipyparallel \n",
    "import pandas as pd\n",
    "import sys\n",
    "import os\n",
    "import lib\n",
    "#import time\n",
    "import glob\n",
    "sys.setrecursionlimit(10000) "
   ]
  },
  {
   "cell_type": "code",
   "execution_count": 2,
   "id": "8ed4e1c1",
   "metadata": {
    "ExecuteTime": {
     "end_time": "2022-04-18T15:27:45.024884Z",
     "start_time": "2022-04-18T15:27:44.909292Z"
    }
   },
   "outputs": [
    {
     "data": {
      "text/plain": [
       "282109"
      ]
     },
     "execution_count": 2,
     "metadata": {},
     "output_type": "execute_result"
    }
   ],
   "source": [
    "# chunk data extraction from a huge .csv file\n",
    "data = [line.strip() for line in open(\"xjn_282109_domains.csv\", 'r')]\n",
    "data=data[1:]\n",
    "len(data)"
   ]
  },
  {
   "cell_type": "markdown",
   "id": "f31f96d9",
   "metadata": {},
   "source": [
    "**Parquet file sample**"
   ]
  },
  {
   "cell_type": "code",
   "execution_count": 3,
   "id": "a52687df",
   "metadata": {},
   "outputs": [],
   "source": [
    "#data[1:10000]"
   ]
  },
  {
   "cell_type": "code",
   "execution_count": null,
   "id": "3dab3f34-7f3b-4d95-90aa-0f03c724951c",
   "metadata": {
    "ExecuteTime": {
     "start_time": "2022-04-18T15:29:09.128Z"
    }
   },
   "outputs": [
    {
     "name": "stdout",
     "output_type": "stream",
     "text": [
      "Using existing profile dir: 'C:\\\\Users\\\\abern\\\\.ipython\\\\profile_default'\n",
      "Starting 8 engines with <class 'ipyparallel.cluster.launcher.LocalEngineSetLauncher'>\n"
     ]
    },
    {
     "data": {
      "application/vnd.jupyter.widget-view+json": {
       "model_id": "9d4796da397c421e990f5f617f83fe4d",
       "version_major": 2,
       "version_minor": 0
      },
      "text/plain": [
       "HBox(children=(FloatProgress(value=0.0, max=8.0), HTML(value='')))"
      ]
     },
     "metadata": {},
     "output_type": "display_data"
    },
    {
     "name": "stdout",
     "output_type": "stream",
     "text": [
      "\n",
      "Processing:output/risultati_xjn_1_1000_domains.csv\n",
      "File exists:output/risultati_xjn_1_1000_domains.csv\n",
      "Processing:output/risultati_xjn_1_2000_domains.csv\n",
      "File exists:output/risultati_xjn_1_2000_domains.csv\n",
      "Processing:output/risultati_xjn_1_3000_domains.csv\n",
      "File exists:output/risultati_xjn_1_3000_domains.csv\n",
      "Processing:output/risultati_xjn_1_4000_domains.csv\n",
      "File exists:output/risultati_xjn_1_4000_domains.csv\n",
      "Processing:output/risultati_xjn_1_5000_domains.csv\n",
      "File exists:output/risultati_xjn_1_5000_domains.csv\n",
      "Processing:output/risultati_xjn_1_6000_domains.csv\n",
      "File exists:output/risultati_xjn_1_6000_domains.csv\n",
      "Processing:output/risultati_xjn_1_7000_domains.csv\n",
      "File exists:output/risultati_xjn_1_7000_domains.csv\n",
      "Processing:output/risultati_xjn_1_8000_domains.csv\n",
      "File exists:output/risultati_xjn_1_8000_domains.csv\n",
      "Processing:output/risultati_xjn_1_9000_domains.csv\n",
      "File exists:output/risultati_xjn_1_9000_domains.csv\n",
      "Processing:output/risultati_xjn_1_10000_domains.csv\n",
      "File exists:output/risultati_xjn_1_10000_domains.csv\n",
      "Processing:output/risultati_xjn_1_11000_domains.csv\n",
      "File exists:output/risultati_xjn_1_11000_domains.csv\n",
      "Processing:output/risultati_xjn_1_12000_domains.csv\n",
      "File exists:output/risultati_xjn_1_12000_domains.csv\n",
      "Processing:output/risultati_xjn_1_13000_domains.csv\n",
      "File exists:output/risultati_xjn_1_13000_domains.csv\n",
      "Processing:output/risultati_xjn_1_14000_domains.csv\n",
      "File exists:output/risultati_xjn_1_14000_domains.csv\n",
      "Processing:output/risultati_xjn_1_15000_domains.csv\n",
      "File exists:output/risultati_xjn_1_15000_domains.csv\n",
      "Processing:output/risultati_xjn_1_16000_domains.csv\n",
      "File exists:output/risultati_xjn_1_16000_domains.csv\n",
      "Processing:output/risultati_xjn_1_17000_domains.csv\n",
      "File exists:output/risultati_xjn_1_17000_domains.csv\n",
      "Processing:output/risultati_xjn_1_18000_domains.csv\n",
      "File exists:output/risultati_xjn_1_18000_domains.csv\n",
      "Processing:output/risultati_xjn_1_19000_domains.csv\n",
      "File exists:output/risultati_xjn_1_19000_domains.csv\n",
      "Processing:output/risultati_xjn_1_20000_domains.csv\n",
      "File exists:output/risultati_xjn_1_20000_domains.csv\n",
      "Processing:output/risultati_xjn_1_21000_domains.csv\n",
      "File exists:output/risultati_xjn_1_21000_domains.csv\n",
      "Processing:output/risultati_xjn_1_22000_domains.csv\n",
      "File exists:output/risultati_xjn_1_22000_domains.csv\n",
      "Processing:output/risultati_xjn_1_23000_domains.csv\n",
      "File exists:output/risultati_xjn_1_23000_domains.csv\n",
      "Processing:output/risultati_xjn_1_24000_domains.csv\n",
      "File exists:output/risultati_xjn_1_24000_domains.csv\n",
      "Processing:output/risultati_xjn_1_25000_domains.csv\n",
      "File exists:output/risultati_xjn_1_25000_domains.csv\n",
      "Processing:output/risultati_xjn_1_26000_domains.csv\n",
      "File exists:output/risultati_xjn_1_26000_domains.csv\n",
      "Processing:output/risultati_xjn_1_27000_domains.csv\n",
      "File exists:output/risultati_xjn_1_27000_domains.csv\n",
      "Processing:output/risultati_xjn_1_28000_domains.csv\n",
      "File exists:output/risultati_xjn_1_28000_domains.csv\n",
      "Processing:output/risultati_xjn_1_29000_domains.csv\n",
      "File exists:output/risultati_xjn_1_29000_domains.csv\n",
      "Processing:output/risultati_xjn_1_30000_domains.csv\n",
      "File exists:output/risultati_xjn_1_30000_domains.csv\n",
      "Processing:output/risultati_xjn_1_31000_domains.csv\n",
      "File exists:output/risultati_xjn_1_31000_domains.csv\n",
      "Processing:output/risultati_xjn_1_32000_domains.csv\n",
      "File exists:output/risultati_xjn_1_32000_domains.csv\n",
      "Processing:output/risultati_xjn_1_33000_domains.csv\n",
      "File exists:output/risultati_xjn_1_33000_domains.csv\n",
      "Processing:output/risultati_xjn_1_34000_domains.csv\n",
      "File exists:output/risultati_xjn_1_34000_domains.csv\n",
      "Processing:output/risultati_xjn_1_35000_domains.csv\n",
      "File exists:output/risultati_xjn_1_35000_domains.csv\n",
      "Processing:output/risultati_xjn_1_36000_domains.csv\n",
      "File exists:output/risultati_xjn_1_36000_domains.csv\n",
      "Processing:output/risultati_xjn_1_37000_domains.csv\n",
      "File exists:output/risultati_xjn_1_37000_domains.csv\n",
      "Processing:output/risultati_xjn_1_38000_domains.csv\n",
      "File exists:output/risultati_xjn_1_38000_domains.csv\n",
      "Processing:output/risultati_xjn_1_39000_domains.csv\n",
      "File exists:output/risultati_xjn_1_39000_domains.csv\n",
      "Processing:output/risultati_xjn_1_40000_domains.csv\n",
      "File exists:output/risultati_xjn_1_40000_domains.csv\n",
      "Processing:output/risultati_xjn_1_41000_domains.csv\n",
      "File exists:output/risultati_xjn_1_41000_domains.csv\n",
      "Processing:output/risultati_xjn_1_42000_domains.csv\n",
      "File exists:output/risultati_xjn_1_42000_domains.csv\n",
      "Processing:output/risultati_xjn_1_43000_domains.csv\n",
      "File exists:output/risultati_xjn_1_43000_domains.csv\n",
      "Processing:output/risultati_xjn_1_44000_domains.csv\n",
      "File exists:output/risultati_xjn_1_44000_domains.csv\n",
      "Processing:output/risultati_xjn_1_45000_domains.csv\n",
      "File exists:output/risultati_xjn_1_45000_domains.csv\n",
      "Processing:output/risultati_xjn_1_46000_domains.csv\n",
      "File exists:output/risultati_xjn_1_46000_domains.csv\n",
      "Processing:output/risultati_xjn_1_47000_domains.csv\n",
      "File exists:output/risultati_xjn_1_47000_domains.csv\n",
      "Processing:output/risultati_xjn_1_48000_domains.csv\n",
      "File exists:output/risultati_xjn_1_48000_domains.csv\n",
      "Processing:output/risultati_xjn_1_49000_domains.csv\n",
      "File exists:output/risultati_xjn_1_49000_domains.csv\n",
      "Processing:output/risultati_xjn_1_50000_domains.csv\n",
      "File exists:output/risultati_xjn_1_50000_domains.csv\n",
      "Processing:output/risultati_xjn_1_51000_domains.csv\n",
      "File exists:output/risultati_xjn_1_51000_domains.csv\n",
      "Processing:output/risultati_xjn_1_52000_domains.csv\n",
      "File exists:output/risultati_xjn_1_52000_domains.csv\n",
      "Processing:output/risultati_xjn_1_53000_domains.csv\n",
      "File exists:output/risultati_xjn_1_53000_domains.csv\n",
      "Processing:output/risultati_xjn_1_54000_domains.csv\n",
      "File exists:output/risultati_xjn_1_54000_domains.csv\n",
      "Processing:output/risultati_xjn_1_55000_domains.csv\n",
      "File exists:output/risultati_xjn_1_55000_domains.csv\n",
      "Processing:output/risultati_xjn_1_56000_domains.csv\n",
      "File exists:output/risultati_xjn_1_56000_domains.csv\n",
      "Processing:output/risultati_xjn_1_57000_domains.csv\n",
      "File exists:output/risultati_xjn_1_57000_domains.csv\n",
      "Processing:output/risultati_xjn_1_58000_domains.csv\n",
      "File exists:output/risultati_xjn_1_58000_domains.csv\n",
      "Processing:output/risultati_xjn_1_59000_domains.csv\n",
      "File exists:output/risultati_xjn_1_59000_domains.csv\n",
      "Processing:output/risultati_xjn_1_60000_domains.csv\n",
      "File exists:output/risultati_xjn_1_60000_domains.csv\n",
      "Processing:output/risultati_xjn_1_61000_domains.csv\n",
      "File exists:output/risultati_xjn_1_61000_domains.csv\n",
      "Processing:output/risultati_xjn_1_62000_domains.csv\n",
      "File exists:output/risultati_xjn_1_62000_domains.csv\n",
      "Processing:output/risultati_xjn_1_63000_domains.csv\n",
      "File exists:output/risultati_xjn_1_63000_domains.csv\n",
      "Processing:output/risultati_xjn_1_64000_domains.csv\n",
      "File exists:output/risultati_xjn_1_64000_domains.csv\n",
      "Processing:output/risultati_xjn_1_65000_domains.csv\n",
      "File exists:output/risultati_xjn_1_65000_domains.csv\n",
      "Processing:output/risultati_xjn_1_66000_domains.csv\n",
      "File exists:output/risultati_xjn_1_66000_domains.csv\n",
      "Processing:output/risultati_xjn_1_67000_domains.csv\n",
      "File exists:output/risultati_xjn_1_67000_domains.csv\n",
      "Processing:output/risultati_xjn_1_68000_domains.csv\n",
      "File exists:output/risultati_xjn_1_68000_domains.csv\n",
      "Processing:output/risultati_xjn_1_69000_domains.csv\n",
      "File exists:output/risultati_xjn_1_69000_domains.csv\n",
      "Processing:output/risultati_xjn_1_70000_domains.csv\n",
      "File exists:output/risultati_xjn_1_70000_domains.csv\n",
      "Processing:output/risultati_xjn_1_71000_domains.csv\n",
      "File exists:output/risultati_xjn_1_71000_domains.csv\n",
      "Processing:output/risultati_xjn_1_72000_domains.csv\n",
      "File exists:output/risultati_xjn_1_72000_domains.csv\n",
      "Processing:output/risultati_xjn_1_73000_domains.csv\n",
      "File exists:output/risultati_xjn_1_73000_domains.csv\n",
      "Processing:output/risultati_xjn_1_74000_domains.csv\n",
      "File exists:output/risultati_xjn_1_74000_domains.csv\n",
      "Processing:output/risultati_xjn_1_75000_domains.csv\n",
      "File exists:output/risultati_xjn_1_75000_domains.csv\n",
      "Processing:output/risultati_xjn_1_76000_domains.csv\n",
      "File exists:output/risultati_xjn_1_76000_domains.csv\n",
      "Processing:output/risultati_xjn_1_77000_domains.csv\n",
      "File exists:output/risultati_xjn_1_77000_domains.csv\n",
      "Processing:output/risultati_xjn_1_78000_domains.csv\n",
      "File exists:output/risultati_xjn_1_78000_domains.csv\n",
      "Processing:output/risultati_xjn_1_79000_domains.csv\n",
      "File exists:output/risultati_xjn_1_79000_domains.csv\n",
      "Processing:output/risultati_xjn_1_80000_domains.csv\n",
      "File exists:output/risultati_xjn_1_80000_domains.csv\n",
      "Processing:output/risultati_xjn_1_81000_domains.csv\n",
      "File exists:output/risultati_xjn_1_81000_domains.csv\n",
      "Processing:output/risultati_xjn_1_82000_domains.csv\n",
      "File exists:output/risultati_xjn_1_82000_domains.csv\n",
      "Processing:output/risultati_xjn_1_83000_domains.csv\n",
      "File exists:output/risultati_xjn_1_83000_domains.csv\n",
      "Processing:output/risultati_xjn_1_84000_domains.csv\n",
      "File exists:output/risultati_xjn_1_84000_domains.csv\n",
      "Processing:output/risultati_xjn_1_85000_domains.csv\n",
      "File exists:output/risultati_xjn_1_85000_domains.csv\n",
      "Processing:output/risultati_xjn_1_86000_domains.csv\n",
      "File exists:output/risultati_xjn_1_86000_domains.csv\n",
      "Processing:output/risultati_xjn_1_87000_domains.csv\n",
      "File exists:output/risultati_xjn_1_87000_domains.csv\n",
      "Processing:output/risultati_xjn_1_88000_domains.csv\n",
      "File exists:output/risultati_xjn_1_88000_domains.csv\n",
      "Processing:output/risultati_xjn_1_89000_domains.csv\n",
      "File exists:output/risultati_xjn_1_89000_domains.csv\n",
      "Processing:output/risultati_xjn_1_90000_domains.csv\n",
      "File exists:output/risultati_xjn_1_90000_domains.csv\n",
      "Processing:output/risultati_xjn_1_91000_domains.csv\n",
      "File exists:output/risultati_xjn_1_91000_domains.csv\n",
      "Processing:output/risultati_xjn_1_92000_domains.csv\n",
      "File exists:output/risultati_xjn_1_92000_domains.csv\n",
      "Processing:output/risultati_xjn_1_93000_domains.csv\n",
      "File exists:output/risultati_xjn_1_93000_domains.csv\n",
      "Processing:output/risultati_xjn_1_94000_domains.csv\n",
      "File exists:output/risultati_xjn_1_94000_domains.csv\n",
      "Processing:output/risultati_xjn_1_95000_domains.csv\n",
      "File exists:output/risultati_xjn_1_95000_domains.csv\n",
      "Processing:output/risultati_xjn_1_96000_domains.csv\n",
      "File exists:output/risultati_xjn_1_96000_domains.csv\n",
      "Processing:output/risultati_xjn_1_97000_domains.csv\n",
      "File exists:output/risultati_xjn_1_97000_domains.csv\n",
      "Processing:output/risultati_xjn_1_98000_domains.csv\n",
      "File exists:output/risultati_xjn_1_98000_domains.csv\n",
      "Processing:output/risultati_xjn_1_99000_domains.csv\n",
      "File exists:output/risultati_xjn_1_99000_domains.csv\n",
      "Processing:output/risultati_xjn_1_100000_domains.csv\n",
      "File exists:output/risultati_xjn_1_100000_domains.csv\n",
      "Processing:output/risultati_xjn_1_101000_domains.csv\n",
      "File exists:output/risultati_xjn_1_101000_domains.csv\n",
      "Processing:output/risultati_xjn_1_102000_domains.csv\n",
      "File exists:output/risultati_xjn_1_102000_domains.csv\n",
      "Processing:output/risultati_xjn_1_103000_domains.csv\n",
      "File exists:output/risultati_xjn_1_103000_domains.csv\n",
      "Processing:output/risultati_xjn_1_104000_domains.csv\n",
      "File exists:output/risultati_xjn_1_104000_domains.csv\n",
      "Processing:output/risultati_xjn_1_105000_domains.csv\n",
      "File exists:output/risultati_xjn_1_105000_domains.csv\n",
      "Processing:output/risultati_xjn_1_106000_domains.csv\n",
      "File exists:output/risultati_xjn_1_106000_domains.csv\n",
      "Processing:output/risultati_xjn_1_107000_domains.csv\n",
      "File exists:output/risultati_xjn_1_107000_domains.csv\n",
      "Processing:output/risultati_xjn_1_108000_domains.csv\n",
      "File exists:output/risultati_xjn_1_108000_domains.csv\n",
      "Processing:output/risultati_xjn_1_109000_domains.csv\n",
      "File exists:output/risultati_xjn_1_109000_domains.csv\n",
      "Processing:output/risultati_xjn_1_110000_domains.csv\n",
      "File exists:output/risultati_xjn_1_110000_domains.csv\n",
      "Processing:output/risultati_xjn_1_111000_domains.csv\n",
      "File exists:output/risultati_xjn_1_111000_domains.csv\n",
      "Processing:output/risultati_xjn_1_112000_domains.csv\n",
      "File exists:output/risultati_xjn_1_112000_domains.csv\n",
      "Processing:output/risultati_xjn_1_113000_domains.csv\n",
      "File exists:output/risultati_xjn_1_113000_domains.csv\n",
      "Processing:output/risultati_xjn_1_114000_domains.csv\n",
      "File exists:output/risultati_xjn_1_114000_domains.csv\n",
      "Processing:output/risultati_xjn_1_115000_domains.csv\n",
      "File exists:output/risultati_xjn_1_115000_domains.csv\n",
      "Processing:output/risultati_xjn_1_116000_domains.csv\n",
      "File exists:output/risultati_xjn_1_116000_domains.csv\n",
      "Processing:output/risultati_xjn_1_117000_domains.csv\n",
      "File exists:output/risultati_xjn_1_117000_domains.csv\n",
      "Processing:output/risultati_xjn_1_118000_domains.csv\n",
      "File exists:output/risultati_xjn_1_118000_domains.csv\n",
      "Processing:output/risultati_xjn_1_119000_domains.csv\n",
      "File exists:output/risultati_xjn_1_119000_domains.csv\n",
      "Processing:output/risultati_xjn_1_120000_domains.csv\n",
      "File exists:output/risultati_xjn_1_120000_domains.csv\n",
      "Processing:output/risultati_xjn_1_121000_domains.csv\n",
      "File exists:output/risultati_xjn_1_121000_domains.csv\n",
      "Processing:output/risultati_xjn_1_122000_domains.csv\n",
      "File exists:output/risultati_xjn_1_122000_domains.csv\n",
      "Processing:output/risultati_xjn_1_123000_domains.csv\n",
      "File exists:output/risultati_xjn_1_123000_domains.csv\n",
      "Processing:output/risultati_xjn_1_124000_domains.csv\n",
      "File exists:output/risultati_xjn_1_124000_domains.csv\n",
      "Processing:output/risultati_xjn_1_125000_domains.csv\n",
      "File exists:output/risultati_xjn_1_125000_domains.csv\n",
      "Processing:output/risultati_xjn_1_126000_domains.csv\n",
      "File exists:output/risultati_xjn_1_126000_domains.csv\n",
      "Processing:output/risultati_xjn_1_127000_domains.csv\n",
      "File exists:output/risultati_xjn_1_127000_domains.csv\n",
      "Processing:output/risultati_xjn_1_128000_domains.csv\n",
      "File exists:output/risultati_xjn_1_128000_domains.csv\n",
      "Processing:output/risultati_xjn_1_129000_domains.csv\n",
      "File exists:output/risultati_xjn_1_129000_domains.csv\n",
      "Processing:output/risultati_xjn_1_130000_domains.csv\n",
      "File exists:output/risultati_xjn_1_130000_domains.csv\n",
      "Processing:output/risultati_xjn_1_131000_domains.csv\n",
      "File exists:output/risultati_xjn_1_131000_domains.csv\n",
      "Processing:output/risultati_xjn_1_132000_domains.csv\n",
      "File exists:output/risultati_xjn_1_132000_domains.csv\n",
      "Processing:output/risultati_xjn_1_133000_domains.csv\n",
      "File exists:output/risultati_xjn_1_133000_domains.csv\n",
      "Processing:output/risultati_xjn_1_134000_domains.csv\n",
      "File exists:output/risultati_xjn_1_134000_domains.csv\n",
      "Processing:output/risultati_xjn_1_135000_domains.csv\n",
      "File exists:output/risultati_xjn_1_135000_domains.csv\n",
      "Processing:output/risultati_xjn_1_136000_domains.csv\n",
      "File exists:output/risultati_xjn_1_136000_domains.csv\n",
      "Processing:output/risultati_xjn_1_137000_domains.csv\n",
      "File exists:output/risultati_xjn_1_137000_domains.csv\n",
      "Processing:output/risultati_xjn_1_138000_domains.csv\n",
      "File exists:output/risultati_xjn_1_138000_domains.csv\n",
      "Processing:output/risultati_xjn_1_139000_domains.csv\n",
      "File exists:output/risultati_xjn_1_139000_domains.csv\n",
      "Processing:output/risultati_xjn_1_140000_domains.csv\n",
      "File exists:output/risultati_xjn_1_140000_domains.csv\n",
      "Processing:output/risultati_xjn_1_141000_domains.csv\n",
      "File exists:output/risultati_xjn_1_141000_domains.csv\n",
      "Processing:output/risultati_xjn_1_142000_domains.csv\n",
      "File exists:output/risultati_xjn_1_142000_domains.csv\n",
      "Processing:output/risultati_xjn_1_143000_domains.csv\n",
      "File exists:output/risultati_xjn_1_143000_domains.csv\n",
      "Processing:output/risultati_xjn_1_144000_domains.csv\n",
      "File exists:output/risultati_xjn_1_144000_domains.csv\n",
      "Processing:output/risultati_xjn_1_145000_domains.csv\n",
      "File exists:output/risultati_xjn_1_145000_domains.csv\n",
      "Processing:output/risultati_xjn_1_146000_domains.csv\n",
      "File exists:output/risultati_xjn_1_146000_domains.csv\n",
      "Processing:output/risultati_xjn_1_147000_domains.csv\n",
      "File exists:output/risultati_xjn_1_147000_domains.csv\n",
      "Processing:output/risultati_xjn_1_148000_domains.csv\n",
      "File exists:output/risultati_xjn_1_148000_domains.csv\n",
      "Processing:output/risultati_xjn_1_149000_domains.csv\n",
      "File exists:output/risultati_xjn_1_149000_domains.csv\n",
      "Processing:output/risultati_xjn_1_150000_domains.csv\n",
      "File exists:output/risultati_xjn_1_150000_domains.csv\n",
      "Processing:output/risultati_xjn_1_151000_domains.csv\n",
      "File exists:output/risultati_xjn_1_151000_domains.csv\n",
      "Processing:output/risultati_xjn_1_152000_domains.csv\n",
      "File exists:output/risultati_xjn_1_152000_domains.csv\n",
      "Processing:output/risultati_xjn_1_153000_domains.csv\n",
      "File exists:output/risultati_xjn_1_153000_domains.csv\n",
      "Processing:output/risultati_xjn_1_154000_domains.csv\n",
      "File exists:output/risultati_xjn_1_154000_domains.csv\n",
      "Processing:output/risultati_xjn_1_155000_domains.csv\n",
      "File exists:output/risultati_xjn_1_155000_domains.csv\n",
      "Processing:output/risultati_xjn_1_156000_domains.csv\n",
      "File exists:output/risultati_xjn_1_156000_domains.csv\n",
      "Processing:output/risultati_xjn_1_157000_domains.csv\n",
      "File exists:output/risultati_xjn_1_157000_domains.csv\n",
      "Processing:output/risultati_xjn_1_158000_domains.csv\n",
      "File exists:output/risultati_xjn_1_158000_domains.csv\n",
      "Processing:output/risultati_xjn_1_159000_domains.csv\n",
      "File exists:output/risultati_xjn_1_159000_domains.csv\n",
      "Processing:output/risultati_xjn_1_160000_domains.csv\n",
      "File exists:output/risultati_xjn_1_160000_domains.csv\n",
      "Processing:output/risultati_xjn_1_161000_domains.csv\n",
      "File exists:output/risultati_xjn_1_161000_domains.csv\n",
      "Processing:output/risultati_xjn_1_162000_domains.csv\n",
      "File exists:output/risultati_xjn_1_162000_domains.csv\n",
      "Processing:output/risultati_xjn_1_163000_domains.csv\n",
      "File exists:output/risultati_xjn_1_163000_domains.csv\n",
      "Processing:output/risultati_xjn_1_164000_domains.csv\n",
      "File exists:output/risultati_xjn_1_164000_domains.csv\n",
      "Processing:output/risultati_xjn_1_165000_domains.csv\n",
      "File exists:output/risultati_xjn_1_165000_domains.csv\n",
      "Processing:output/risultati_xjn_1_166000_domains.csv\n",
      "File exists:output/risultati_xjn_1_166000_domains.csv\n",
      "Processing:output/risultati_xjn_1_167000_domains.csv\n",
      "File exists:output/risultati_xjn_1_167000_domains.csv\n",
      "Processing:output/risultati_xjn_1_168000_domains.csv\n",
      "File exists:output/risultati_xjn_1_168000_domains.csv\n",
      "Processing:output/risultati_xjn_1_169000_domains.csv\n",
      "File exists:output/risultati_xjn_1_169000_domains.csv\n",
      "Processing:output/risultati_xjn_1_170000_domains.csv\n",
      "File exists:output/risultati_xjn_1_170000_domains.csv\n",
      "Processing:output/risultati_xjn_1_171000_domains.csv\n",
      "File exists:output/risultati_xjn_1_171000_domains.csv\n",
      "Processing:output/risultati_xjn_1_172000_domains.csv\n",
      "File exists:output/risultati_xjn_1_172000_domains.csv\n",
      "Processing:output/risultati_xjn_1_173000_domains.csv\n",
      "File exists:output/risultati_xjn_1_173000_domains.csv\n",
      "Processing:output/risultati_xjn_1_174000_domains.csv\n",
      "File exists:output/risultati_xjn_1_174000_domains.csv\n",
      "Processing:output/risultati_xjn_1_175000_domains.csv\n",
      "File exists:output/risultati_xjn_1_175000_domains.csv\n",
      "Processing:output/risultati_xjn_1_176000_domains.csv\n",
      "File exists:output/risultati_xjn_1_176000_domains.csv\n",
      "Processing:output/risultati_xjn_1_177000_domains.csv\n",
      "File exists:output/risultati_xjn_1_177000_domains.csv\n",
      "Processing:output/risultati_xjn_1_178000_domains.csv\n",
      "File exists:output/risultati_xjn_1_178000_domains.csv\n",
      "Processing:output/risultati_xjn_1_179000_domains.csv\n",
      "File exists:output/risultati_xjn_1_179000_domains.csv\n",
      "Processing:output/risultati_xjn_1_180000_domains.csv\n",
      "File exists:output/risultati_xjn_1_180000_domains.csv\n",
      "Processing:output/risultati_xjn_1_181000_domains.csv\n",
      "File exists:output/risultati_xjn_1_181000_domains.csv\n",
      "Processing:output/risultati_xjn_1_182000_domains.csv\n",
      "File exists:output/risultati_xjn_1_182000_domains.csv\n",
      "Processing:output/risultati_xjn_1_183000_domains.csv\n",
      "File exists:output/risultati_xjn_1_183000_domains.csv\n",
      "Processing:output/risultati_xjn_1_184000_domains.csv\n",
      "File exists:output/risultati_xjn_1_184000_domains.csv\n",
      "Processing:output/risultati_xjn_1_185000_domains.csv\n",
      "File exists:output/risultati_xjn_1_185000_domains.csv\n",
      "Processing:output/risultati_xjn_1_186000_domains.csv\n",
      "File exists:output/risultati_xjn_1_186000_domains.csv\n",
      "Processing:output/risultati_xjn_1_187000_domains.csv\n",
      "File exists:output/risultati_xjn_1_187000_domains.csv\n",
      "Processing:output/risultati_xjn_1_188000_domains.csv\n"
     ]
    },
    {
     "data": {
      "application/vnd.jupyter.widget-view+json": {
       "model_id": "f5e829ab50e04aa795ca282f728b46d5",
       "version_major": 2,
       "version_minor": 0
      },
      "text/plain": [
       "HBox(children=(FloatProgress(value=0.0, description='analyzeUrl', max=1000.0, style=ProgressStyle(description_…"
      ]
     },
     "metadata": {},
     "output_type": "display_data"
    },
    {
     "name": "stdout",
     "output_type": "stream",
     "text": [
      "\n",
      "Writing:output/risultati_xjn_1_188000_domains.csv\n",
      "Processing:output/risultati_xjn_1_189000_domains.csv\n"
     ]
    },
    {
     "data": {
      "application/vnd.jupyter.widget-view+json": {
       "model_id": "557a98d6e41740ebbdb35711a333d1ba",
       "version_major": 2,
       "version_minor": 0
      },
      "text/plain": [
       "HBox(children=(FloatProgress(value=0.0, description='analyzeUrl', max=1000.0, style=ProgressStyle(description_…"
      ]
     },
     "metadata": {},
     "output_type": "display_data"
    },
    {
     "name": "stdout",
     "output_type": "stream",
     "text": [
      "\n",
      "Writing:output/risultati_xjn_1_189000_domains.csv\n",
      "Processing:output/risultati_xjn_1_190000_domains.csv\n"
     ]
    },
    {
     "data": {
      "application/vnd.jupyter.widget-view+json": {
       "model_id": "ec9b014a004c4bdaa60f97f50a9123e3",
       "version_major": 2,
       "version_minor": 0
      },
      "text/plain": [
       "HBox(children=(FloatProgress(value=0.0, description='analyzeUrl', max=1000.0, style=ProgressStyle(description_…"
      ]
     },
     "metadata": {},
     "output_type": "display_data"
    },
    {
     "name": "stdout",
     "output_type": "stream",
     "text": [
      "\n",
      "Writing:output/risultati_xjn_1_190000_domains.csv\n",
      "Processing:output/risultati_xjn_1_191000_domains.csv\n"
     ]
    },
    {
     "data": {
      "application/vnd.jupyter.widget-view+json": {
       "model_id": "86b8e959c06546dca033a09ae104714a",
       "version_major": 2,
       "version_minor": 0
      },
      "text/plain": [
       "HBox(children=(FloatProgress(value=0.0, description='analyzeUrl', max=1000.0, style=ProgressStyle(description_…"
      ]
     },
     "metadata": {},
     "output_type": "display_data"
    },
    {
     "name": "stdout",
     "output_type": "stream",
     "text": [
      "\n",
      "Writing:output/risultati_xjn_1_191000_domains.csv\n",
      "Processing:output/risultati_xjn_1_192000_domains.csv\n"
     ]
    },
    {
     "data": {
      "application/vnd.jupyter.widget-view+json": {
       "model_id": "36267b4321ab4c93aba842ddf41aa9fd",
       "version_major": 2,
       "version_minor": 0
      },
      "text/plain": [
       "HBox(children=(FloatProgress(value=0.0, description='analyzeUrl', max=1000.0, style=ProgressStyle(description_…"
      ]
     },
     "metadata": {},
     "output_type": "display_data"
    },
    {
     "name": "stdout",
     "output_type": "stream",
     "text": [
      "\n",
      "Writing:output/risultati_xjn_1_192000_domains.csv\n",
      "Processing:output/risultati_xjn_1_193000_domains.csv\n"
     ]
    },
    {
     "data": {
      "application/vnd.jupyter.widget-view+json": {
       "model_id": "63a6c45072d24bae81d914ee36d2cebc",
       "version_major": 2,
       "version_minor": 0
      },
      "text/plain": [
       "HBox(children=(FloatProgress(value=0.0, description='analyzeUrl', max=1000.0, style=ProgressStyle(description_…"
      ]
     },
     "metadata": {},
     "output_type": "display_data"
    },
    {
     "name": "stdout",
     "output_type": "stream",
     "text": [
      "\n",
      "Writing:output/risultati_xjn_1_193000_domains.csv\n",
      "Processing:output/risultati_xjn_1_194000_domains.csv\n"
     ]
    },
    {
     "data": {
      "application/vnd.jupyter.widget-view+json": {
       "model_id": "be1e75b9e21e4333ad46c4ed45b047a4",
       "version_major": 2,
       "version_minor": 0
      },
      "text/plain": [
       "HBox(children=(FloatProgress(value=0.0, description='analyzeUrl', max=1000.0, style=ProgressStyle(description_…"
      ]
     },
     "metadata": {},
     "output_type": "display_data"
    },
    {
     "name": "stdout",
     "output_type": "stream",
     "text": [
      "\n",
      "Writing:output/risultati_xjn_1_194000_domains.csv\n",
      "Processing:output/risultati_xjn_1_195000_domains.csv\n"
     ]
    },
    {
     "data": {
      "application/vnd.jupyter.widget-view+json": {
       "model_id": "a6299618d7604c50bb73dc1ee3d7bb82",
       "version_major": 2,
       "version_minor": 0
      },
      "text/plain": [
       "HBox(children=(FloatProgress(value=0.0, description='analyzeUrl', max=1000.0, style=ProgressStyle(description_…"
      ]
     },
     "metadata": {},
     "output_type": "display_data"
    },
    {
     "name": "stdout",
     "output_type": "stream",
     "text": [
      "\n",
      "Writing:output/risultati_xjn_1_195000_domains.csv\n",
      "Processing:output/risultati_xjn_1_196000_domains.csv\n"
     ]
    },
    {
     "data": {
      "application/vnd.jupyter.widget-view+json": {
       "model_id": "530b0ab009734ff3bf29d46f27ce4e8f",
       "version_major": 2,
       "version_minor": 0
      },
      "text/plain": [
       "HBox(children=(FloatProgress(value=0.0, description='analyzeUrl', max=1000.0, style=ProgressStyle(description_…"
      ]
     },
     "metadata": {},
     "output_type": "display_data"
    },
    {
     "name": "stdout",
     "output_type": "stream",
     "text": [
      "\n",
      "Writing:output/risultati_xjn_1_196000_domains.csv\n",
      "Processing:output/risultati_xjn_1_197000_domains.csv\n"
     ]
    },
    {
     "data": {
      "application/vnd.jupyter.widget-view+json": {
       "model_id": "1e6d56bea5394439b4016c2e7941952c",
       "version_major": 2,
       "version_minor": 0
      },
      "text/plain": [
       "HBox(children=(FloatProgress(value=0.0, description='analyzeUrl', max=1000.0, style=ProgressStyle(description_…"
      ]
     },
     "metadata": {},
     "output_type": "display_data"
    },
    {
     "name": "stdout",
     "output_type": "stream",
     "text": [
      "\n",
      "Writing:output/risultati_xjn_1_197000_domains.csv\n",
      "Processing:output/risultati_xjn_1_198000_domains.csv\n"
     ]
    },
    {
     "data": {
      "application/vnd.jupyter.widget-view+json": {
       "model_id": "9cb2f9c5398b4bf1a7ad7cf33836b4ad",
       "version_major": 2,
       "version_minor": 0
      },
      "text/plain": [
       "HBox(children=(FloatProgress(value=0.0, description='analyzeUrl', max=1000.0, style=ProgressStyle(description_…"
      ]
     },
     "metadata": {},
     "output_type": "display_data"
    },
    {
     "name": "stdout",
     "output_type": "stream",
     "text": [
      "\n",
      "Writing:output/risultati_xjn_1_198000_domains.csv\n",
      "Processing:output/risultati_xjn_1_199000_domains.csv\n"
     ]
    },
    {
     "data": {
      "application/vnd.jupyter.widget-view+json": {
       "model_id": "51cf41f73ef74bf4809abc2109557aab",
       "version_major": 2,
       "version_minor": 0
      },
      "text/plain": [
       "HBox(children=(FloatProgress(value=0.0, description='analyzeUrl', max=1000.0, style=ProgressStyle(description_…"
      ]
     },
     "metadata": {},
     "output_type": "display_data"
    },
    {
     "name": "stdout",
     "output_type": "stream",
     "text": [
      "\n",
      "Writing:output/risultati_xjn_1_199000_domains.csv\n",
      "Processing:output/risultati_xjn_1_200000_domains.csv\n"
     ]
    },
    {
     "data": {
      "application/vnd.jupyter.widget-view+json": {
       "model_id": "5e098227547749e1b7d026f1f63dbcde",
       "version_major": 2,
       "version_minor": 0
      },
      "text/plain": [
       "HBox(children=(FloatProgress(value=0.0, description='analyzeUrl', max=1000.0, style=ProgressStyle(description_…"
      ]
     },
     "metadata": {},
     "output_type": "display_data"
    },
    {
     "name": "stdout",
     "output_type": "stream",
     "text": [
      "\n",
      "Writing:output/risultati_xjn_1_200000_domains.csv\n",
      "Processing:output/risultati_xjn_1_201000_domains.csv\n"
     ]
    },
    {
     "data": {
      "application/vnd.jupyter.widget-view+json": {
       "model_id": "f4dcd346e50d4c1188028e01eb80df36",
       "version_major": 2,
       "version_minor": 0
      },
      "text/plain": [
       "HBox(children=(FloatProgress(value=0.0, description='analyzeUrl', max=1000.0, style=ProgressStyle(description_…"
      ]
     },
     "metadata": {},
     "output_type": "display_data"
    },
    {
     "name": "stdout",
     "output_type": "stream",
     "text": [
      "\n",
      "Writing:output/risultati_xjn_1_201000_domains.csv\n",
      "Processing:output/risultati_xjn_1_202000_domains.csv\n"
     ]
    },
    {
     "data": {
      "application/vnd.jupyter.widget-view+json": {
       "model_id": "1fe1067b411c41838c0c6e000d7ae30b",
       "version_major": 2,
       "version_minor": 0
      },
      "text/plain": [
       "HBox(children=(FloatProgress(value=0.0, description='analyzeUrl', max=1000.0, style=ProgressStyle(description_…"
      ]
     },
     "metadata": {},
     "output_type": "display_data"
    },
    {
     "name": "stdout",
     "output_type": "stream",
     "text": [
      "\n",
      "Writing:output/risultati_xjn_1_202000_domains.csv\n",
      "Processing:output/risultati_xjn_1_203000_domains.csv\n"
     ]
    },
    {
     "data": {
      "application/vnd.jupyter.widget-view+json": {
       "model_id": "6a3f204d940c4e3ba5fd18aab4c399c1",
       "version_major": 2,
       "version_minor": 0
      },
      "text/plain": [
       "HBox(children=(FloatProgress(value=0.0, description='analyzeUrl', max=1000.0, style=ProgressStyle(description_…"
      ]
     },
     "metadata": {},
     "output_type": "display_data"
    },
    {
     "name": "stdout",
     "output_type": "stream",
     "text": [
      "\n",
      "Writing:output/risultati_xjn_1_203000_domains.csv\n",
      "Processing:output/risultati_xjn_1_204000_domains.csv\n"
     ]
    },
    {
     "data": {
      "application/vnd.jupyter.widget-view+json": {
       "model_id": "c220156500e940c8a529f62fb6164378",
       "version_major": 2,
       "version_minor": 0
      },
      "text/plain": [
       "HBox(children=(FloatProgress(value=0.0, description='analyzeUrl', max=1000.0, style=ProgressStyle(description_…"
      ]
     },
     "metadata": {},
     "output_type": "display_data"
    },
    {
     "name": "stdout",
     "output_type": "stream",
     "text": [
      "\n",
      "Writing:output/risultati_xjn_1_204000_domains.csv\n",
      "Processing:output/risultati_xjn_1_205000_domains.csv\n"
     ]
    },
    {
     "data": {
      "application/vnd.jupyter.widget-view+json": {
       "model_id": "72ccbca52012412cbfcf3d8559d1c57a",
       "version_major": 2,
       "version_minor": 0
      },
      "text/plain": [
       "HBox(children=(FloatProgress(value=0.0, description='analyzeUrl', max=1000.0, style=ProgressStyle(description_…"
      ]
     },
     "metadata": {},
     "output_type": "display_data"
    },
    {
     "name": "stdout",
     "output_type": "stream",
     "text": [
      "\n",
      "Writing:output/risultati_xjn_1_205000_domains.csv\n",
      "Processing:output/risultati_xjn_1_206000_domains.csv\n"
     ]
    },
    {
     "data": {
      "application/vnd.jupyter.widget-view+json": {
       "model_id": "eead0d6331244458b2769af823a4ced2",
       "version_major": 2,
       "version_minor": 0
      },
      "text/plain": [
       "HBox(children=(FloatProgress(value=0.0, description='analyzeUrl', max=1000.0, style=ProgressStyle(description_…"
      ]
     },
     "metadata": {},
     "output_type": "display_data"
    },
    {
     "name": "stdout",
     "output_type": "stream",
     "text": [
      "\n",
      "Writing:output/risultati_xjn_1_206000_domains.csv\n",
      "Processing:output/risultati_xjn_1_207000_domains.csv\n"
     ]
    },
    {
     "data": {
      "application/vnd.jupyter.widget-view+json": {
       "model_id": "64a50b9193f641f4b7b3c9f6f6eac278",
       "version_major": 2,
       "version_minor": 0
      },
      "text/plain": [
       "HBox(children=(FloatProgress(value=0.0, description='analyzeUrl', max=1000.0, style=ProgressStyle(description_…"
      ]
     },
     "metadata": {},
     "output_type": "display_data"
    },
    {
     "name": "stdout",
     "output_type": "stream",
     "text": [
      "\n",
      "Writing:output/risultati_xjn_1_207000_domains.csv\n",
      "Processing:output/risultati_xjn_1_208000_domains.csv\n"
     ]
    },
    {
     "data": {
      "application/vnd.jupyter.widget-view+json": {
       "model_id": "9dd3dbbafdee4ef792a6e4ebbc619a86",
       "version_major": 2,
       "version_minor": 0
      },
      "text/plain": [
       "HBox(children=(FloatProgress(value=0.0, description='analyzeUrl', max=1000.0, style=ProgressStyle(description_…"
      ]
     },
     "metadata": {},
     "output_type": "display_data"
    },
    {
     "name": "stdout",
     "output_type": "stream",
     "text": [
      "\n",
      "Writing:output/risultati_xjn_1_208000_domains.csv\n",
      "Processing:output/risultati_xjn_1_209000_domains.csv\n"
     ]
    },
    {
     "data": {
      "application/vnd.jupyter.widget-view+json": {
       "model_id": "4aa1c6c90eae4358a371494b2ff608d1",
       "version_major": 2,
       "version_minor": 0
      },
      "text/plain": [
       "HBox(children=(FloatProgress(value=0.0, description='analyzeUrl', max=1000.0, style=ProgressStyle(description_…"
      ]
     },
     "metadata": {},
     "output_type": "display_data"
    },
    {
     "name": "stdout",
     "output_type": "stream",
     "text": [
      "\n",
      "Writing:output/risultati_xjn_1_209000_domains.csv\n",
      "Processing:output/risultati_xjn_1_210000_domains.csv\n"
     ]
    },
    {
     "data": {
      "application/vnd.jupyter.widget-view+json": {
       "model_id": "d57292c8caca46fc8545c94bc8ef8435",
       "version_major": 2,
       "version_minor": 0
      },
      "text/plain": [
       "HBox(children=(FloatProgress(value=0.0, description='analyzeUrl', max=1000.0, style=ProgressStyle(description_…"
      ]
     },
     "metadata": {},
     "output_type": "display_data"
    },
    {
     "name": "stdout",
     "output_type": "stream",
     "text": [
      "\n",
      "Writing:output/risultati_xjn_1_210000_domains.csv\n",
      "Processing:output/risultati_xjn_1_211000_domains.csv\n"
     ]
    },
    {
     "data": {
      "application/vnd.jupyter.widget-view+json": {
       "model_id": "8c285f7c69b943d4a5074e3d41efc1a5",
       "version_major": 2,
       "version_minor": 0
      },
      "text/plain": [
       "HBox(children=(FloatProgress(value=0.0, description='analyzeUrl', max=1000.0, style=ProgressStyle(description_…"
      ]
     },
     "metadata": {},
     "output_type": "display_data"
    },
    {
     "name": "stdout",
     "output_type": "stream",
     "text": [
      "\n",
      "Writing:output/risultati_xjn_1_211000_domains.csv\n",
      "Processing:output/risultati_xjn_1_212000_domains.csv\n"
     ]
    },
    {
     "data": {
      "application/vnd.jupyter.widget-view+json": {
       "model_id": "2d585baee0144623a2f2bd7d6fa05f2f",
       "version_major": 2,
       "version_minor": 0
      },
      "text/plain": [
       "HBox(children=(FloatProgress(value=0.0, description='analyzeUrl', max=1000.0, style=ProgressStyle(description_…"
      ]
     },
     "metadata": {},
     "output_type": "display_data"
    },
    {
     "name": "stdout",
     "output_type": "stream",
     "text": [
      "\n",
      "Writing:output/risultati_xjn_1_212000_domains.csv\n",
      "Processing:output/risultati_xjn_1_213000_domains.csv\n"
     ]
    },
    {
     "data": {
      "application/vnd.jupyter.widget-view+json": {
       "model_id": "07ef933a685344c39f7a578a8e493088",
       "version_major": 2,
       "version_minor": 0
      },
      "text/plain": [
       "HBox(children=(FloatProgress(value=0.0, description='analyzeUrl', max=1000.0, style=ProgressStyle(description_…"
      ]
     },
     "metadata": {},
     "output_type": "display_data"
    },
    {
     "name": "stdout",
     "output_type": "stream",
     "text": [
      "\n",
      "Writing:output/risultati_xjn_1_213000_domains.csv\n",
      "Processing:output/risultati_xjn_1_214000_domains.csv\n"
     ]
    },
    {
     "data": {
      "application/vnd.jupyter.widget-view+json": {
       "model_id": "7cbebd8961734b96bc5ae0354b54e9d6",
       "version_major": 2,
       "version_minor": 0
      },
      "text/plain": [
       "HBox(children=(FloatProgress(value=0.0, description='analyzeUrl', max=1000.0, style=ProgressStyle(description_…"
      ]
     },
     "metadata": {},
     "output_type": "display_data"
    },
    {
     "name": "stdout",
     "output_type": "stream",
     "text": [
      "\n",
      "Writing:output/risultati_xjn_1_214000_domains.csv\n",
      "Processing:output/risultati_xjn_1_215000_domains.csv\n"
     ]
    },
    {
     "data": {
      "application/vnd.jupyter.widget-view+json": {
       "model_id": "70fe38505d9148c284cf5aa1edd30052",
       "version_major": 2,
       "version_minor": 0
      },
      "text/plain": [
       "HBox(children=(FloatProgress(value=0.0, description='analyzeUrl', max=1000.0, style=ProgressStyle(description_…"
      ]
     },
     "metadata": {},
     "output_type": "display_data"
    },
    {
     "name": "stdout",
     "output_type": "stream",
     "text": [
      "\n",
      "Writing:output/risultati_xjn_1_215000_domains.csv\n",
      "Processing:output/risultati_xjn_1_216000_domains.csv\n"
     ]
    },
    {
     "data": {
      "application/vnd.jupyter.widget-view+json": {
       "model_id": "28bef239c26f45bf9051dc204e9cb45e",
       "version_major": 2,
       "version_minor": 0
      },
      "text/plain": [
       "HBox(children=(FloatProgress(value=0.0, description='analyzeUrl', max=1000.0, style=ProgressStyle(description_…"
      ]
     },
     "metadata": {},
     "output_type": "display_data"
    },
    {
     "name": "stdout",
     "output_type": "stream",
     "text": [
      "\n",
      "Writing:output/risultati_xjn_1_216000_domains.csv\n",
      "Processing:output/risultati_xjn_1_217000_domains.csv\n"
     ]
    },
    {
     "data": {
      "application/vnd.jupyter.widget-view+json": {
       "model_id": "87232433fccf446cb2f62b0a57843f12",
       "version_major": 2,
       "version_minor": 0
      },
      "text/plain": [
       "HBox(children=(FloatProgress(value=0.0, description='analyzeUrl', max=1000.0, style=ProgressStyle(description_…"
      ]
     },
     "metadata": {},
     "output_type": "display_data"
    },
    {
     "name": "stdout",
     "output_type": "stream",
     "text": [
      "\n",
      "Writing:output/risultati_xjn_1_217000_domains.csv\n",
      "Processing:output/risultati_xjn_1_218000_domains.csv\n"
     ]
    },
    {
     "data": {
      "application/vnd.jupyter.widget-view+json": {
       "model_id": "b426b04ad5bb4859baacf71a228054dc",
       "version_major": 2,
       "version_minor": 0
      },
      "text/plain": [
       "HBox(children=(FloatProgress(value=0.0, description='analyzeUrl', max=1000.0, style=ProgressStyle(description_…"
      ]
     },
     "metadata": {},
     "output_type": "display_data"
    },
    {
     "name": "stdout",
     "output_type": "stream",
     "text": [
      "\n",
      "Writing:output/risultati_xjn_1_218000_domains.csv\n",
      "Processing:output/risultati_xjn_1_219000_domains.csv\n"
     ]
    },
    {
     "data": {
      "application/vnd.jupyter.widget-view+json": {
       "model_id": "d8caa4590d044e6a875a3448d8e293f6",
       "version_major": 2,
       "version_minor": 0
      },
      "text/plain": [
       "HBox(children=(FloatProgress(value=0.0, description='analyzeUrl', max=1000.0, style=ProgressStyle(description_…"
      ]
     },
     "metadata": {},
     "output_type": "display_data"
    },
    {
     "name": "stdout",
     "output_type": "stream",
     "text": [
      "\n",
      "Writing:output/risultati_xjn_1_219000_domains.csv\n",
      "Processing:output/risultati_xjn_1_220000_domains.csv\n"
     ]
    },
    {
     "data": {
      "application/vnd.jupyter.widget-view+json": {
       "model_id": "4d2f8934892a417db35d4bb2d84b9488",
       "version_major": 2,
       "version_minor": 0
      },
      "text/plain": [
       "HBox(children=(FloatProgress(value=0.0, description='analyzeUrl', max=1000.0, style=ProgressStyle(description_…"
      ]
     },
     "metadata": {},
     "output_type": "display_data"
    },
    {
     "name": "stdout",
     "output_type": "stream",
     "text": [
      "\n",
      "Writing:output/risultati_xjn_1_220000_domains.csv\n",
      "Processing:output/risultati_xjn_1_221000_domains.csv\n"
     ]
    },
    {
     "data": {
      "application/vnd.jupyter.widget-view+json": {
       "model_id": "273e4c2701514e91880dbd40faafd661",
       "version_major": 2,
       "version_minor": 0
      },
      "text/plain": [
       "HBox(children=(FloatProgress(value=0.0, description='analyzeUrl', max=1000.0, style=ProgressStyle(description_…"
      ]
     },
     "metadata": {},
     "output_type": "display_data"
    },
    {
     "name": "stdout",
     "output_type": "stream",
     "text": [
      "\n",
      "Writing:output/risultati_xjn_1_221000_domains.csv\n",
      "Processing:output/risultati_xjn_1_222000_domains.csv\n"
     ]
    },
    {
     "data": {
      "application/vnd.jupyter.widget-view+json": {
       "model_id": "095db8f778644244a7b061f0fe926987",
       "version_major": 2,
       "version_minor": 0
      },
      "text/plain": [
       "HBox(children=(FloatProgress(value=0.0, description='analyzeUrl', max=1000.0, style=ProgressStyle(description_…"
      ]
     },
     "metadata": {},
     "output_type": "display_data"
    },
    {
     "name": "stdout",
     "output_type": "stream",
     "text": [
      "\n",
      "Writing:output/risultati_xjn_1_222000_domains.csv\n",
      "Processing:output/risultati_xjn_1_223000_domains.csv\n"
     ]
    },
    {
     "data": {
      "application/vnd.jupyter.widget-view+json": {
       "model_id": "911967a335de43afbe236193b57f8960",
       "version_major": 2,
       "version_minor": 0
      },
      "text/plain": [
       "HBox(children=(FloatProgress(value=0.0, description='analyzeUrl', max=1000.0, style=ProgressStyle(description_…"
      ]
     },
     "metadata": {},
     "output_type": "display_data"
    },
    {
     "name": "stdout",
     "output_type": "stream",
     "text": [
      "\n",
      "Writing:output/risultati_xjn_1_223000_domains.csv\n",
      "Processing:output/risultati_xjn_1_224000_domains.csv\n"
     ]
    },
    {
     "data": {
      "application/vnd.jupyter.widget-view+json": {
       "model_id": "32bce8da7471407185d67a70e5a0a0ce",
       "version_major": 2,
       "version_minor": 0
      },
      "text/plain": [
       "HBox(children=(FloatProgress(value=0.0, description='analyzeUrl', max=1000.0, style=ProgressStyle(description_…"
      ]
     },
     "metadata": {},
     "output_type": "display_data"
    },
    {
     "name": "stdout",
     "output_type": "stream",
     "text": [
      "\n",
      "Writing:output/risultati_xjn_1_224000_domains.csv\n",
      "Processing:output/risultati_xjn_1_225000_domains.csv\n"
     ]
    },
    {
     "data": {
      "application/vnd.jupyter.widget-view+json": {
       "model_id": "6845193b813448b0abfe537ac7506c10",
       "version_major": 2,
       "version_minor": 0
      },
      "text/plain": [
       "HBox(children=(FloatProgress(value=0.0, description='analyzeUrl', max=1000.0, style=ProgressStyle(description_…"
      ]
     },
     "metadata": {},
     "output_type": "display_data"
    },
    {
     "name": "stdout",
     "output_type": "stream",
     "text": [
      "\n",
      "Writing:output/risultati_xjn_1_225000_domains.csv\n",
      "Processing:output/risultati_xjn_1_226000_domains.csv\n"
     ]
    },
    {
     "data": {
      "application/vnd.jupyter.widget-view+json": {
       "model_id": "dd043abecb5f406aa6bcf6fefddbeeba",
       "version_major": 2,
       "version_minor": 0
      },
      "text/plain": [
       "HBox(children=(FloatProgress(value=0.0, description='analyzeUrl', max=1000.0, style=ProgressStyle(description_…"
      ]
     },
     "metadata": {},
     "output_type": "display_data"
    },
    {
     "name": "stdout",
     "output_type": "stream",
     "text": [
      "\n",
      "Writing:output/risultati_xjn_1_226000_domains.csv\n",
      "Processing:output/risultati_xjn_1_227000_domains.csv\n"
     ]
    },
    {
     "data": {
      "application/vnd.jupyter.widget-view+json": {
       "model_id": "7a40b3104ee545c29201bd5b6e883bd0",
       "version_major": 2,
       "version_minor": 0
      },
      "text/plain": [
       "HBox(children=(FloatProgress(value=0.0, description='analyzeUrl', max=1000.0, style=ProgressStyle(description_…"
      ]
     },
     "metadata": {},
     "output_type": "display_data"
    },
    {
     "name": "stdout",
     "output_type": "stream",
     "text": [
      "\n",
      "Writing:output/risultati_xjn_1_227000_domains.csv\n",
      "Processing:output/risultati_xjn_1_228000_domains.csv\n"
     ]
    },
    {
     "data": {
      "application/vnd.jupyter.widget-view+json": {
       "model_id": "c14ab25f702a4a6eabb2d69412a96d91",
       "version_major": 2,
       "version_minor": 0
      },
      "text/plain": [
       "HBox(children=(FloatProgress(value=0.0, description='analyzeUrl', max=1000.0, style=ProgressStyle(description_…"
      ]
     },
     "metadata": {},
     "output_type": "display_data"
    },
    {
     "name": "stdout",
     "output_type": "stream",
     "text": [
      "\n",
      "Writing:output/risultati_xjn_1_228000_domains.csv\n",
      "Processing:output/risultati_xjn_1_229000_domains.csv\n"
     ]
    },
    {
     "data": {
      "application/vnd.jupyter.widget-view+json": {
       "model_id": "396538f7239f461c86a8f20e726450ba",
       "version_major": 2,
       "version_minor": 0
      },
      "text/plain": [
       "HBox(children=(FloatProgress(value=0.0, description='analyzeUrl', max=1000.0, style=ProgressStyle(description_…"
      ]
     },
     "metadata": {},
     "output_type": "display_data"
    },
    {
     "name": "stdout",
     "output_type": "stream",
     "text": [
      "\n",
      "Writing:output/risultati_xjn_1_229000_domains.csv\n",
      "Processing:output/risultati_xjn_1_230000_domains.csv\n"
     ]
    },
    {
     "data": {
      "application/vnd.jupyter.widget-view+json": {
       "model_id": "191623098f1e4ed9b6be47be5506c935",
       "version_major": 2,
       "version_minor": 0
      },
      "text/plain": [
       "HBox(children=(FloatProgress(value=0.0, description='analyzeUrl', max=1000.0, style=ProgressStyle(description_…"
      ]
     },
     "metadata": {},
     "output_type": "display_data"
    },
    {
     "name": "stdout",
     "output_type": "stream",
     "text": [
      "\n",
      "Writing:output/risultati_xjn_1_230000_domains.csv\n",
      "Processing:output/risultati_xjn_1_231000_domains.csv\n"
     ]
    },
    {
     "data": {
      "application/vnd.jupyter.widget-view+json": {
       "model_id": "7f6f7af5a8ab4187b447b4ac80dd53a1",
       "version_major": 2,
       "version_minor": 0
      },
      "text/plain": [
       "HBox(children=(FloatProgress(value=0.0, description='analyzeUrl', max=1000.0, style=ProgressStyle(description_…"
      ]
     },
     "metadata": {},
     "output_type": "display_data"
    },
    {
     "name": "stdout",
     "output_type": "stream",
     "text": [
      "\n",
      "Writing:output/risultati_xjn_1_231000_domains.csv\n",
      "Processing:output/risultati_xjn_1_232000_domains.csv\n"
     ]
    },
    {
     "data": {
      "application/vnd.jupyter.widget-view+json": {
       "model_id": "c25135aebd8a4fa5aacd2b0c4c8757ba",
       "version_major": 2,
       "version_minor": 0
      },
      "text/plain": [
       "HBox(children=(FloatProgress(value=0.0, description='analyzeUrl', max=1000.0, style=ProgressStyle(description_…"
      ]
     },
     "metadata": {},
     "output_type": "display_data"
    },
    {
     "name": "stdout",
     "output_type": "stream",
     "text": [
      "\n",
      "Writing:output/risultati_xjn_1_232000_domains.csv\n",
      "Processing:output/risultati_xjn_1_233000_domains.csv\n"
     ]
    },
    {
     "data": {
      "application/vnd.jupyter.widget-view+json": {
       "model_id": "5775dfafd0c844c59d4f678155aa51ed",
       "version_major": 2,
       "version_minor": 0
      },
      "text/plain": [
       "HBox(children=(FloatProgress(value=0.0, description='analyzeUrl', max=1000.0, style=ProgressStyle(description_…"
      ]
     },
     "metadata": {},
     "output_type": "display_data"
    },
    {
     "name": "stdout",
     "output_type": "stream",
     "text": [
      "\n",
      "Writing:output/risultati_xjn_1_233000_domains.csv\n",
      "Processing:output/risultati_xjn_1_234000_domains.csv\n"
     ]
    },
    {
     "data": {
      "application/vnd.jupyter.widget-view+json": {
       "model_id": "2aa1dc66aeb34c919fac0726fbda6a79",
       "version_major": 2,
       "version_minor": 0
      },
      "text/plain": [
       "HBox(children=(FloatProgress(value=0.0, description='analyzeUrl', max=1000.0, style=ProgressStyle(description_…"
      ]
     },
     "metadata": {},
     "output_type": "display_data"
    },
    {
     "name": "stdout",
     "output_type": "stream",
     "text": [
      "\n",
      "Writing:output/risultati_xjn_1_234000_domains.csv\n",
      "Processing:output/risultati_xjn_1_235000_domains.csv\n"
     ]
    },
    {
     "data": {
      "application/vnd.jupyter.widget-view+json": {
       "model_id": "7d29e7ea6d974ebea9a8cb6b01e151b5",
       "version_major": 2,
       "version_minor": 0
      },
      "text/plain": [
       "HBox(children=(FloatProgress(value=0.0, description='analyzeUrl', max=1000.0, style=ProgressStyle(description_…"
      ]
     },
     "metadata": {},
     "output_type": "display_data"
    },
    {
     "name": "stdout",
     "output_type": "stream",
     "text": [
      "\n",
      "Writing:output/risultati_xjn_1_235000_domains.csv\n",
      "Processing:output/risultati_xjn_1_236000_domains.csv\n"
     ]
    },
    {
     "data": {
      "application/vnd.jupyter.widget-view+json": {
       "model_id": "5f94ee78e459401eb1c7adacd38c73ec",
       "version_major": 2,
       "version_minor": 0
      },
      "text/plain": [
       "HBox(children=(FloatProgress(value=0.0, description='analyzeUrl', max=1000.0, style=ProgressStyle(description_…"
      ]
     },
     "metadata": {},
     "output_type": "display_data"
    },
    {
     "name": "stdout",
     "output_type": "stream",
     "text": [
      "\n",
      "Writing:output/risultati_xjn_1_236000_domains.csv\n",
      "Processing:output/risultati_xjn_1_237000_domains.csv\n"
     ]
    },
    {
     "data": {
      "application/vnd.jupyter.widget-view+json": {
       "model_id": "59772096bf274cb09ddcbff32282861d",
       "version_major": 2,
       "version_minor": 0
      },
      "text/plain": [
       "HBox(children=(FloatProgress(value=0.0, description='analyzeUrl', max=1000.0, style=ProgressStyle(description_…"
      ]
     },
     "metadata": {},
     "output_type": "display_data"
    },
    {
     "name": "stdout",
     "output_type": "stream",
     "text": [
      "\n",
      "Writing:output/risultati_xjn_1_237000_domains.csv\n",
      "Processing:output/risultati_xjn_1_238000_domains.csv\n"
     ]
    },
    {
     "data": {
      "application/vnd.jupyter.widget-view+json": {
       "model_id": "0a1d5d4a8a0740c8a2bc0b03221aa2f6",
       "version_major": 2,
       "version_minor": 0
      },
      "text/plain": [
       "HBox(children=(FloatProgress(value=0.0, description='analyzeUrl', max=1000.0, style=ProgressStyle(description_…"
      ]
     },
     "metadata": {},
     "output_type": "display_data"
    },
    {
     "name": "stdout",
     "output_type": "stream",
     "text": [
      "\n",
      "Writing:output/risultati_xjn_1_238000_domains.csv\n",
      "Processing:output/risultati_xjn_1_239000_domains.csv\n"
     ]
    },
    {
     "data": {
      "application/vnd.jupyter.widget-view+json": {
       "model_id": "b579c6f6067d4ab499a12d6f75448523",
       "version_major": 2,
       "version_minor": 0
      },
      "text/plain": [
       "HBox(children=(FloatProgress(value=0.0, description='analyzeUrl', max=1000.0, style=ProgressStyle(description_…"
      ]
     },
     "metadata": {},
     "output_type": "display_data"
    },
    {
     "name": "stdout",
     "output_type": "stream",
     "text": [
      "\n",
      "Writing:output/risultati_xjn_1_239000_domains.csv\n",
      "Processing:output/risultati_xjn_1_240000_domains.csv\n"
     ]
    },
    {
     "data": {
      "application/vnd.jupyter.widget-view+json": {
       "model_id": "b2d663474d374ce491261db78bcb0b8e",
       "version_major": 2,
       "version_minor": 0
      },
      "text/plain": [
       "HBox(children=(FloatProgress(value=0.0, description='analyzeUrl', max=1000.0, style=ProgressStyle(description_…"
      ]
     },
     "metadata": {},
     "output_type": "display_data"
    },
    {
     "name": "stdout",
     "output_type": "stream",
     "text": [
      "\n",
      "Writing:output/risultati_xjn_1_240000_domains.csv\n",
      "Processing:output/risultati_xjn_1_241000_domains.csv\n"
     ]
    },
    {
     "data": {
      "application/vnd.jupyter.widget-view+json": {
       "model_id": "d7db6d939c4b4639a16817c4b5412960",
       "version_major": 2,
       "version_minor": 0
      },
      "text/plain": [
       "HBox(children=(FloatProgress(value=0.0, description='analyzeUrl', max=1000.0, style=ProgressStyle(description_…"
      ]
     },
     "metadata": {},
     "output_type": "display_data"
    },
    {
     "name": "stdout",
     "output_type": "stream",
     "text": [
      "\n",
      "Writing:output/risultati_xjn_1_241000_domains.csv\n",
      "Processing:output/risultati_xjn_1_242000_domains.csv\n"
     ]
    },
    {
     "data": {
      "application/vnd.jupyter.widget-view+json": {
       "model_id": "e096e5eba1d64b268bf3c7e15e560e00",
       "version_major": 2,
       "version_minor": 0
      },
      "text/plain": [
       "HBox(children=(FloatProgress(value=0.0, description='analyzeUrl', max=1000.0, style=ProgressStyle(description_…"
      ]
     },
     "metadata": {},
     "output_type": "display_data"
    },
    {
     "name": "stdout",
     "output_type": "stream",
     "text": [
      "\n",
      "Writing:output/risultati_xjn_1_242000_domains.csv\n",
      "Processing:output/risultati_xjn_1_243000_domains.csv\n"
     ]
    },
    {
     "data": {
      "application/vnd.jupyter.widget-view+json": {
       "model_id": "dbf0663d444a4d51b89c0a7158c03c53",
       "version_major": 2,
       "version_minor": 0
      },
      "text/plain": [
       "HBox(children=(FloatProgress(value=0.0, description='analyzeUrl', max=1000.0, style=ProgressStyle(description_…"
      ]
     },
     "metadata": {},
     "output_type": "display_data"
    },
    {
     "name": "stdout",
     "output_type": "stream",
     "text": [
      "\n",
      "Writing:output/risultati_xjn_1_243000_domains.csv\n",
      "Processing:output/risultati_xjn_1_244000_domains.csv\n"
     ]
    },
    {
     "data": {
      "application/vnd.jupyter.widget-view+json": {
       "model_id": "628a8d7e2d274274afe1d0ab93aa28fc",
       "version_major": 2,
       "version_minor": 0
      },
      "text/plain": [
       "HBox(children=(FloatProgress(value=0.0, description='analyzeUrl', max=1000.0, style=ProgressStyle(description_…"
      ]
     },
     "metadata": {},
     "output_type": "display_data"
    },
    {
     "name": "stdout",
     "output_type": "stream",
     "text": [
      "\n",
      "Writing:output/risultati_xjn_1_244000_domains.csv\n",
      "Processing:output/risultati_xjn_1_245000_domains.csv\n"
     ]
    },
    {
     "data": {
      "application/vnd.jupyter.widget-view+json": {
       "model_id": "e97feb7d142947f5b457a0ba7ef9a1a9",
       "version_major": 2,
       "version_minor": 0
      },
      "text/plain": [
       "HBox(children=(FloatProgress(value=0.0, description='analyzeUrl', max=1000.0, style=ProgressStyle(description_…"
      ]
     },
     "metadata": {},
     "output_type": "display_data"
    },
    {
     "name": "stdout",
     "output_type": "stream",
     "text": [
      "\n",
      "Writing:output/risultati_xjn_1_245000_domains.csv\n",
      "Processing:output/risultati_xjn_1_246000_domains.csv\n"
     ]
    },
    {
     "data": {
      "application/vnd.jupyter.widget-view+json": {
       "model_id": "4a86205b35bb4d2cbe7383acd731815f",
       "version_major": 2,
       "version_minor": 0
      },
      "text/plain": [
       "HBox(children=(FloatProgress(value=0.0, description='analyzeUrl', max=1000.0, style=ProgressStyle(description_…"
      ]
     },
     "metadata": {},
     "output_type": "display_data"
    },
    {
     "name": "stdout",
     "output_type": "stream",
     "text": [
      "\n",
      "Writing:output/risultati_xjn_1_246000_domains.csv\n",
      "Processing:output/risultati_xjn_1_247000_domains.csv\n"
     ]
    },
    {
     "data": {
      "application/vnd.jupyter.widget-view+json": {
       "model_id": "4b70724cabba445889aa63880f80549c",
       "version_major": 2,
       "version_minor": 0
      },
      "text/plain": [
       "HBox(children=(FloatProgress(value=0.0, description='analyzeUrl', max=1000.0, style=ProgressStyle(description_…"
      ]
     },
     "metadata": {},
     "output_type": "display_data"
    },
    {
     "name": "stdout",
     "output_type": "stream",
     "text": [
      "\n",
      "Writing:output/risultati_xjn_1_247000_domains.csv\n",
      "Processing:output/risultati_xjn_1_248000_domains.csv\n"
     ]
    },
    {
     "data": {
      "application/vnd.jupyter.widget-view+json": {
       "model_id": "0891c474c7d942ab8f9e835ca98cef79",
       "version_major": 2,
       "version_minor": 0
      },
      "text/plain": [
       "HBox(children=(FloatProgress(value=0.0, description='analyzeUrl', max=1000.0, style=ProgressStyle(description_…"
      ]
     },
     "metadata": {},
     "output_type": "display_data"
    },
    {
     "name": "stdout",
     "output_type": "stream",
     "text": [
      "\n",
      "Writing:output/risultati_xjn_1_248000_domains.csv\n",
      "Processing:output/risultati_xjn_1_249000_domains.csv\n"
     ]
    },
    {
     "data": {
      "application/vnd.jupyter.widget-view+json": {
       "model_id": "d8c6e712be2e4133be7c4abd349ccb9a",
       "version_major": 2,
       "version_minor": 0
      },
      "text/plain": [
       "HBox(children=(FloatProgress(value=0.0, description='analyzeUrl', max=1000.0, style=ProgressStyle(description_…"
      ]
     },
     "metadata": {},
     "output_type": "display_data"
    },
    {
     "name": "stdout",
     "output_type": "stream",
     "text": [
      "\n",
      "Writing:output/risultati_xjn_1_249000_domains.csv\n",
      "Processing:output/risultati_xjn_1_250000_domains.csv\n"
     ]
    },
    {
     "data": {
      "application/vnd.jupyter.widget-view+json": {
       "model_id": "5fdd111ca54d4245984de30e4d44675d",
       "version_major": 2,
       "version_minor": 0
      },
      "text/plain": [
       "HBox(children=(FloatProgress(value=0.0, description='analyzeUrl', max=1000.0, style=ProgressStyle(description_…"
      ]
     },
     "metadata": {},
     "output_type": "display_data"
    },
    {
     "name": "stdout",
     "output_type": "stream",
     "text": [
      "\n",
      "Writing:output/risultati_xjn_1_250000_domains.csv\n",
      "Processing:output/risultati_xjn_1_251000_domains.csv\n"
     ]
    },
    {
     "data": {
      "application/vnd.jupyter.widget-view+json": {
       "model_id": "97307925178845d488cfa907703ee0e1",
       "version_major": 2,
       "version_minor": 0
      },
      "text/plain": [
       "HBox(children=(FloatProgress(value=0.0, description='analyzeUrl', max=1000.0, style=ProgressStyle(description_…"
      ]
     },
     "metadata": {},
     "output_type": "display_data"
    }
   ],
   "source": [
    "import ipyparallel as ipp\n",
    "import os\n",
    "base=1000\n",
    "step=1000\n",
    "with ipp.Cluster() as rc:\n",
    "    view = rc.load_balanced_view()\n",
    "    \n",
    "    for i in range(base, 300000, step):\n",
    "        print(\"Processing:\"+ \"output/risultati_xjn_1_\"+str(i)+\"_domains.csv\")\n",
    "        if not os.path.exists(\"output/risultati_xjn_1_\"+str(i)+\"_domains.csv\"):\n",
    "\n",
    "            asyncresult = view.map_async(lib.analyzeUrl, data[i:i+step])\n",
    "            asyncresult.wait_interactive()\n",
    "            records = asyncresult.get()\n",
    "            pd.DataFrame(records,columns =['url',\"response_code\", 'html_title', \"guessed_language\", \"size\"]).to_csv(\"output/risultati_xjn_1_\"+str(i)+\"_domains.csv\",quotechar='\"',sep ='\\t')\n",
    "            print(\"Writing:\"+ \"output/risultati_xjn_1_\"+str(i)+\"_domains.csv\")\n",
    "        else:\n",
    "            print(\"File exists:\"+ \"output/risultati_xjn_1_\"+str(i)+\"_domains.csv\")"
   ]
  },
  {
   "cell_type": "markdown",
   "id": "81893064-8cfa-42bf-b0e5-d94466e11d55",
   "metadata": {},
   "source": [
    "## records"
   ]
  },
  {
   "cell_type": "code",
   "execution_count": null,
   "id": "27d3819d",
   "metadata": {
    "ExecuteTime": {
     "end_time": "2022-04-18T14:35:23.049345Z",
     "start_time": "2022-04-18T14:35:15.819Z"
    }
   },
   "outputs": [],
   "source": [
    "df=pd.DataFrame(records,columns =['url',\"response_code\", 'html_title', \"guessed_language\", \"size\"])"
   ]
  },
  {
   "cell_type": "code",
   "execution_count": null,
   "id": "317054ec",
   "metadata": {},
   "outputs": [],
   "source": [
    "pd.read_csv(\"output/risultati_xjn_1_68000_domains.csv\",index_col=0,encoding = 'utf8',sep='\\t') "
   ]
  },
  {
   "cell_type": "code",
   "execution_count": null,
   "id": "e800ed5f-0566-42c7-a9b9-3ff11784dac4",
   "metadata": {},
   "outputs": [],
   "source": []
  }
 ],
 "metadata": {
  "kernelspec": {
   "display_name": "Python 3",
   "language": "python",
   "name": "python3"
  },
  "language_info": {
   "codemirror_mode": {
    "name": "ipython",
    "version": 3
   },
   "file_extension": ".py",
   "mimetype": "text/x-python",
   "name": "python",
   "nbconvert_exporter": "python",
   "pygments_lexer": "ipython3",
   "version": "3.8.10"
  },
  "toc": {
   "base_numbering": 1,
   "nav_menu": {},
   "number_sections": true,
   "sideBar": true,
   "skip_h1_title": false,
   "title_cell": "Table of Contents",
   "title_sidebar": "Contents",
   "toc_cell": false,
   "toc_position": {},
   "toc_section_display": true,
   "toc_window_display": false
  },
  "varInspector": {
   "cols": {
    "lenName": 16,
    "lenType": 16,
    "lenVar": 40
   },
   "kernels_config": {
    "python": {
     "delete_cmd_postfix": "",
     "delete_cmd_prefix": "del ",
     "library": "var_list.py",
     "varRefreshCmd": "print(var_dic_list())"
    },
    "r": {
     "delete_cmd_postfix": ") ",
     "delete_cmd_prefix": "rm(",
     "library": "var_list.r",
     "varRefreshCmd": "cat(var_dic_list()) "
    }
   },
   "types_to_exclude": [
    "module",
    "function",
    "builtin_function_or_method",
    "instance",
    "_Feature"
   ],
   "window_display": false
  }
 },
 "nbformat": 4,
 "nbformat_minor": 5
}
