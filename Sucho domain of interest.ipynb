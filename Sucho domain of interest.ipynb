{
 "cells": [
  {
   "cell_type": "code",
   "execution_count": 2,
   "metadata": {
    "ExecuteTime": {
     "end_time": "2022-04-05T14:38:05.419026Z",
     "start_time": "2022-04-05T13:46:07.741373Z"
    }
   },
   "outputs": [
    {
     "name": "stdout",
     "output_type": "stream",
     "text": [
      "desnabib.kiev.ua ЦБС Деснянського району м. Києва\n",
      "desnalib.org 403 Forbidden\n",
      "avr.org.ua Електронний архів українського визвольного руху\n",
      "komkor.in.ua Database Error\n",
      "mon.gov.ua Головна | Міністерство освіти і науки України \n",
      "sirenfest.net.ua Харьковская сирень - Главная\n",
      "gx.net.ua Новости Харькова. Главные новости Харькова и области - новостной портал Город Х\n",
      "olbio.org Благодійний фонд \"Ольвійський меценат\" родини Крапівіних \" – Підтримка археологічної та історико-культурної спадщини України\n",
      "olbio.org.ua Заповідник Ольвія: Головна\n",
      "slovnyk.ua СЛОВНИК - тлумачний словник української мови, орфографічний словник онлайн\n",
      "gluten-free.life Gluten Free Life\n",
      "mim.kiev.ua МІМ - перша бізнес-школа\n",
      "mim.kyiv.ua МІМ - перша бізнес-школа\n",
      "novakahovka.com.ua Нова Каховка\n",
      "aquasferra.com.ua aquasferra.com.ua | 521: Web server is down\n",
      "vukm.com.ua Вінницький коледж культури і мистецтв ім.М.Леонтовича\n",
      "bez-korobki.com.ua Картины по номерам без коробки купить в Киеве, Украине\n",
      "libr.rv.ua РОУНБ (РДОБ) - Рівненська обласна універсальна наукова бібліотека, Комунальний заклад Рівненської обласної ради\n",
      "memory.rv.ua Революція гідності. Війна. Рівненщина\n",
      "pravo.org.ua 403 Forbidden - nginx\n",
      "thegifts.com.ua TheGifts: Промо-продукция для бизнеса\n",
      "phdpu.edu.ua Університет Григорія Сковороди в Переяславі - УГСП - UHSP\n",
      "uhsp.edu.ua Університет Григорія Сковороди в Переяславі - УГСП - UHSP\n",
      "ukraine-live.com УКРАЇНА LIVE\n",
      "vyhoda.com.ua Что такое игровые слоты • vyhoda.com.ua\n",
      "tvori.com.ua Відмінник - шкільні твори з української, зарубіжної, російської літератури\n",
      "nashe.com.ua ÐÐÐ¨Ð (ÑÐµÐºÑÑÐ¸ Ð¿ÑÑÐµÐ½Ñ)\n",
      "pshenychka.com.ua ТОВ \"Пшеничка\" | Імпортер молокопродукції в Україні – Імпортні сири тверді, вершкові, кисломолочні продукти, йогурти та десерти з доставкою по всій Україні.\n"
     ]
    }
   ],
   "source": [
    "import requests\n",
    "from bs4 import BeautifulSoup\n",
    "results_url=[]\n",
    "results_title=[]\n",
    "results_translate=[]\n",
    "\n",
    "import urllib\n",
    "from bs4 import BeautifulSoup\n",
    "from urllib.request import urlopen\n",
    "from urllib.parse import urlsplit\n",
    "import re\n",
    "ext = set()\n",
    "def getExt(url):\n",
    "    o = urllib.parse.urlsplit(url)\n",
    "    html = urlopen(url)\n",
    "    bs = BeautifulSoup(html, 'html.parser')\n",
    "    for link in bs.find_all('a', href = re.compile('^((https://)|(http://))')):\n",
    "        if 'href' in link.attrs:\n",
    "            if o.netloc in (link.attrs['href']):\n",
    "                continue\n",
    "            else:\n",
    "                ext.add(link.attrs['href'])\n",
    "\n",
    "\n",
    "# target url\n",
    "urls=[\"desnabib.kiev.ua\",\t\"desnalib.org\", \"avr.org.ua\",\t\"komkor.in.ua\", \"mon.gov.ua\",\t\"adaptivepage.com\", \"sirenfest.net.ua\",\t\"gx.net.ua\", \"olbio.org\",\t\"olbio.org.ua\", \"slovnyk.ua\",\t\"gluten-free.life\", \"mim.kiev.ua\",\t\"mim.kyiv.ua\", \"novakahovka.com.ua\",\t\"aquasferra.com.ua\", \"vukm.com.ua\",\t\"bez-korobki.com.ua\", \"libr.rv.ua\",\t\"memory.rv.ua\", \"pravo.org.ua\",\t\"thegifts.com.ua\", \"phdpu.edu.ua\",\t\"uhsp.edu.ua\", \"naoma.edu.ua\",\t\"ukraine-live.com\", \"vyhoda.com.ua\",\t\"tvori.com.ua\", \"nashe.com.ua\",\t\"pshenychka.com.ua\", \"zhu.edu.ua\",\t\"education.zp.ua\", \"sspu.edu.ua\",\t\"finsfera.com.ua\", \"operetta.com.ua\",\t\"kozlovskyi-center.com.ua\", \"e2u.org.ua\",\t\"movahistory.org.ua\", \"olbio.com.ua\",\t\"travelinmykolaiv.com.ua\"]\n",
    "# making requests instance\n",
    "\n",
    "for url in urls:\n",
    "  try:\n",
    "      reqs = requests.get(\"http://\"+url)\n",
    "      soup = BeautifulSoup(reqs.text, 'html.parser')\n",
    "    \n",
    "      # displaying the title\n",
    "      for title in soup.find_all('title'):\n",
    "          print(url, title.get_text())\n",
    "          results_url.append(url)\n",
    "          results_title.append(title) \n",
    "      getExt(url)\n",
    "      for i in ext:\n",
    "          print(i)            \n",
    "  except:\n",
    "    results_url.append(url)\n",
    "    results_title.append(\"null\")\n",
    "    pass\n",
    "    "
   ]
  },
  {
   "cell_type": "code",
   "execution_count": null,
   "metadata": {
    "ExecuteTime": {
     "end_time": "2022-04-05T12:56:41.893168Z",
     "start_time": "2022-04-05T12:56:41.197373Z"
    }
   },
   "outputs": [],
   "source": [
    "import pandas as pd\n",
    "df = pd.DataFrame(list(zip(results_url, results_title)),columns =['url', 'title'])"
   ]
  },
  {
   "cell_type": "code",
   "execution_count": null,
   "metadata": {
    "ExecuteTime": {
     "end_time": "2022-04-05T12:56:41.950362Z",
     "start_time": "2022-04-05T12:56:41.893168Z"
    }
   },
   "outputs": [],
   "source": [
    "df"
   ]
  }
 ],
 "metadata": {
  "kernelspec": {
   "display_name": "Python 3",
   "language": "python",
   "name": "python3"
  },
  "language_info": {
   "codemirror_mode": {
    "name": "ipython",
    "version": 3
   },
   "file_extension": ".py",
   "mimetype": "text/x-python",
   "name": "python",
   "nbconvert_exporter": "python",
   "pygments_lexer": "ipython3",
   "version": "3.8.10"
  },
  "toc": {
   "base_numbering": 1,
   "nav_menu": {},
   "number_sections": true,
   "sideBar": true,
   "skip_h1_title": false,
   "title_cell": "Table of Contents",
   "title_sidebar": "Contents",
   "toc_cell": false,
   "toc_position": {},
   "toc_section_display": true,
   "toc_window_display": false
  },
  "varInspector": {
   "cols": {
    "lenName": 16,
    "lenType": 16,
    "lenVar": 40
   },
   "kernels_config": {
    "python": {
     "delete_cmd_postfix": "",
     "delete_cmd_prefix": "del ",
     "library": "var_list.py",
     "varRefreshCmd": "print(var_dic_list())"
    },
    "r": {
     "delete_cmd_postfix": ") ",
     "delete_cmd_prefix": "rm(",
     "library": "var_list.r",
     "varRefreshCmd": "cat(var_dic_list()) "
    }
   },
   "types_to_exclude": [
    "module",
    "function",
    "builtin_function_or_method",
    "instance",
    "_Feature"
   ],
   "window_display": false
  }
 },
 "nbformat": 4,
 "nbformat_minor": 4
}
