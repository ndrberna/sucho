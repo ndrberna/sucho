{
 "cells": [
  {
   "cell_type": "markdown",
   "metadata": {},
   "source": [
    "### Import"
   ]
  },
  {
   "cell_type": "code",
   "execution_count": 1,
   "metadata": {
    "ExecuteTime": {
     "end_time": "2022-04-05T17:46:35.844479Z",
     "start_time": "2022-04-05T17:46:34.969296Z"
    }
   },
   "outputs": [],
   "source": [
    "import requests\n",
    "import pandas as pd\n",
    "import urllib\n",
    "from bs4 import BeautifulSoup\n",
    "from urllib.request import urlopen\n",
    "from urllib.parse import urlsplit\n",
    "from googletrans import Translator\n",
    "import re\n",
    "results_url=[]\n",
    "results_title=[]   "
   ]
  },
  {
   "cell_type": "code",
   "execution_count": null,
   "metadata": {},
   "outputs": [],
   "source": []
  },
  {
   "cell_type": "markdown",
   "metadata": {},
   "source": [
    "### Title extraction"
   ]
  },
  {
   "cell_type": "code",
   "execution_count": null,
   "metadata": {
    "ExecuteTime": {
     "start_time": "2022-04-05T17:46:34.969Z"
    }
   },
   "outputs": [],
   "source": [
    "urls=[\"desnabib.kiev.ua\",\t\"desnalib.org\", \"avr.org.ua\",\t\"komkor.in.ua\", \"mon.gov.ua\",\t\"adaptivepage.com\", \"sirenfest.net.ua\",\t\"gx.net.ua\", \"olbio.org\",\t\"olbio.org.ua\", \"slovnyk.ua\",\t\"gluten-free.life\", \"mim.kiev.ua\",\t\"mim.kyiv.ua\", \"novakahovka.com.ua\",\t\"aquasferra.com.ua\", \"vukm.com.ua\",\t\"bez-korobki.com.ua\", \"libr.rv.ua\",\t\"memory.rv.ua\", \"pravo.org.ua\",\t\"thegifts.com.ua\", \"phdpu.edu.ua\",\t\"uhsp.edu.ua\", \"naoma.edu.ua\",\t\"ukraine-live.com\", \"vyhoda.com.ua\",\t\"tvori.com.ua\", \"nashe.com.ua\",\t\"pshenychka.com.ua\", \"zhu.edu.ua\",\t\"education.zp.ua\", \"sspu.edu.ua\",\t\"finsfera.com.ua\", \"operetta.com.ua\",\t\"kozlovskyi-center.com.ua\", \"e2u.org.ua\",\t\"movahistory.org.ua\", \"olbio.com.ua\",\t\"travelinmykolaiv.com.ua\"]\n",
    "for url in urls:\n",
    "  try:\n",
    "      reqs = requests.get(\"http://\"+url)\n",
    "      soup = BeautifulSoup(reqs.text, 'html.parser')\n",
    "    \n",
    "      # displaying the title\n",
    "      for title in soup.find_all('title'):\n",
    "          results_url.append(url)\n",
    "          results_title.append(title) \n",
    "  except:\n",
    "    results_url.append(url)\n",
    "    results_title.append(\"\")\n",
    "    pass"
   ]
  },
  {
   "cell_type": "markdown",
   "metadata": {},
   "source": [
    "### Title translation"
   ]
  },
  {
   "cell_type": "code",
   "execution_count": null,
   "metadata": {
    "ExecuteTime": {
     "start_time": "2022-04-05T17:46:34.972Z"
    }
   },
   "outputs": [],
   "source": [
    "translator = Translator()\n",
    "results_lang=[]\n",
    "results_translation=[]\n",
    "for title in results_title:\n",
    "    try:\n",
    "        translation=translator.translate(title.text, dest=\"en\")\n",
    "        #print (title.text,\";\" ,translation.src,\";\" ,translation.text,\";\")\n",
    "        results_lang.append(translation.src)\n",
    "        results_translation.append(translation.text)\n",
    "    except:\n",
    "        #print (title,\"\",\"\",\"\")\n",
    "        results_lang.append(\"\")\n",
    "        results_translation.append(\"\")"
   ]
  },
  {
   "cell_type": "markdown",
   "metadata": {},
   "source": [
    "### Data visualization"
   ]
  },
  {
   "cell_type": "code",
   "execution_count": null,
   "metadata": {
    "ExecuteTime": {
     "start_time": "2022-04-05T17:46:34.976Z"
    }
   },
   "outputs": [],
   "source": [
    "df = pd.DataFrame(list(zip(results_url, results_title,results_lang,results_translation)),columns =['url', 'original_title', \"guessed_language\", \"translation\"])\n",
    "df"
   ]
  }
 ],
 "metadata": {
  "kernelspec": {
   "display_name": "Python 3",
   "language": "python",
   "name": "python3"
  },
  "language_info": {
   "codemirror_mode": {
    "name": "ipython",
    "version": 3
   },
   "file_extension": ".py",
   "mimetype": "text/x-python",
   "name": "python",
   "nbconvert_exporter": "python",
   "pygments_lexer": "ipython3",
   "version": "3.8.10"
  },
  "toc": {
   "base_numbering": 1,
   "nav_menu": {},
   "number_sections": true,
   "sideBar": true,
   "skip_h1_title": false,
   "title_cell": "Table of Contents",
   "title_sidebar": "Contents",
   "toc_cell": false,
   "toc_position": {},
   "toc_section_display": true,
   "toc_window_display": false
  },
  "varInspector": {
   "cols": {
    "lenName": 16,
    "lenType": 16,
    "lenVar": 40
   },
   "kernels_config": {
    "python": {
     "delete_cmd_postfix": "",
     "delete_cmd_prefix": "del ",
     "library": "var_list.py",
     "varRefreshCmd": "print(var_dic_list())"
    },
    "r": {
     "delete_cmd_postfix": ") ",
     "delete_cmd_prefix": "rm(",
     "library": "var_list.r",
     "varRefreshCmd": "cat(var_dic_list()) "
    }
   },
   "types_to_exclude": [
    "module",
    "function",
    "builtin_function_or_method",
    "instance",
    "_Feature"
   ],
   "window_display": false
  }
 },
 "nbformat": 4,
 "nbformat_minor": 4
}
