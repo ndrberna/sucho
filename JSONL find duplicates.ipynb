{
 "cells": [
  {
   "cell_type": "code",
   "execution_count": 1,
   "metadata": {
    "ExecuteTime": {
     "end_time": "2022-03-16T16:19:25.952867Z",
     "start_time": "2022-03-16T16:19:23.517568Z"
    }
   },
   "outputs": [
    {
     "data": {
      "text/html": [
       "<div>\n",
       "<style scoped>\n",
       "    .dataframe tbody tr th:only-of-type {\n",
       "        vertical-align: middle;\n",
       "    }\n",
       "\n",
       "    .dataframe tbody tr th {\n",
       "        vertical-align: top;\n",
       "    }\n",
       "\n",
       "    .dataframe thead th {\n",
       "        text-align: right;\n",
       "    }\n",
       "</style>\n",
       "<table border=\"1\" class=\"dataframe\">\n",
       "  <thead>\n",
       "    <tr style=\"text-align: right;\">\n",
       "      <th></th>\n",
       "      <th>format</th>\n",
       "      <th>id</th>\n",
       "      <th>title</th>\n",
       "      <th>hasText</th>\n",
       "      <th>url</th>\n",
       "      <th>seed</th>\n",
       "    </tr>\n",
       "  </thead>\n",
       "  <tbody>\n",
       "    <tr>\n",
       "      <th>0</th>\n",
       "      <td>json-pages-1.0</td>\n",
       "      <td>pages</td>\n",
       "      <td>All Pages</td>\n",
       "      <td>0.0</td>\n",
       "      <td>NaN</td>\n",
       "      <td>NaN</td>\n",
       "    </tr>\n",
       "    <tr>\n",
       "      <th>1</th>\n",
       "      <td>NaN</td>\n",
       "      <td>53058827-9e2a-4a83-86b0-57d491507368</td>\n",
       "      <td>Дрогобицька Духовна Семінарія - УГКЦ</td>\n",
       "      <td>NaN</td>\n",
       "      <td>http://dds.edu.ua/</td>\n",
       "      <td>1.0</td>\n",
       "    </tr>\n",
       "    <tr>\n",
       "      <th>2</th>\n",
       "      <td>NaN</td>\n",
       "      <td>2761c876-bee5-4500-a2de-ffdfc6e61d1d</td>\n",
       "      <td>Розпорядок дня</td>\n",
       "      <td>NaN</td>\n",
       "      <td>http://dds.edu.ua/life/2.html</td>\n",
       "      <td>NaN</td>\n",
       "    </tr>\n",
       "    <tr>\n",
       "      <th>3</th>\n",
       "      <td>NaN</td>\n",
       "      <td>e5402e65-3787-4b61-8882-45e197cdce7b</td>\n",
       "      <td>Доброчинці Дрогобицької Духовної Семінарії</td>\n",
       "      <td>NaN</td>\n",
       "      <td>http://dds.edu.ua/ua/about/2/benefactors.html</td>\n",
       "      <td>NaN</td>\n",
       "    </tr>\n",
       "    <tr>\n",
       "      <th>4</th>\n",
       "      <td>NaN</td>\n",
       "      <td>5d916e7c-bd94-45fd-afe4-283a7bcb74f1</td>\n",
       "      <td>Дрогобицька Духовна Семінарія - УГКЦ - Наукові...</td>\n",
       "      <td>NaN</td>\n",
       "      <td>http://dds.edu.ua/ua/component/abook/book/19-n...</td>\n",
       "      <td>NaN</td>\n",
       "    </tr>\n",
       "  </tbody>\n",
       "</table>\n",
       "</div>"
      ],
      "text/plain": [
       "           format                                    id  \\\n",
       "0  json-pages-1.0                                 pages   \n",
       "1             NaN  53058827-9e2a-4a83-86b0-57d491507368   \n",
       "2             NaN  2761c876-bee5-4500-a2de-ffdfc6e61d1d   \n",
       "3             NaN  e5402e65-3787-4b61-8882-45e197cdce7b   \n",
       "4             NaN  5d916e7c-bd94-45fd-afe4-283a7bcb74f1   \n",
       "\n",
       "                                               title  hasText  \\\n",
       "0                                          All Pages      0.0   \n",
       "1               Дрогобицька Духовна Семінарія - УГКЦ      NaN   \n",
       "2                                     Розпорядок дня      NaN   \n",
       "3         Доброчинці Дрогобицької Духовної Семінарії      NaN   \n",
       "4  Дрогобицька Духовна Семінарія - УГКЦ - Наукові...      NaN   \n",
       "\n",
       "                                                 url  seed  \n",
       "0                                                NaN   NaN  \n",
       "1                                 http://dds.edu.ua/   1.0  \n",
       "2                      http://dds.edu.ua/life/2.html   NaN  \n",
       "3      http://dds.edu.ua/ua/about/2/benefactors.html   NaN  \n",
       "4  http://dds.edu.ua/ua/component/abook/book/19-n...   NaN  "
      ]
     },
     "execution_count": 1,
     "metadata": {},
     "output_type": "execute_result"
    }
   ],
   "source": [
    "import os\n",
    "import pandas as pd\n",
    "filename=r'C:\\Users\\abern\\crawling\\crawls\\crawls\\collections\\dds-edu-ua\\pages\\pages.jsonl'\n",
    "df=pd.read_json(filename, lines=True)\n",
    "df.head(5)"
   ]
  },
  {
   "cell_type": "code",
   "execution_count": 2,
   "metadata": {
    "ExecuteTime": {
     "end_time": "2022-03-16T16:19:27.687742Z",
     "start_time": "2022-03-16T16:19:26.885910Z"
    }
   },
   "outputs": [
    {
     "name": "stdout",
     "output_type": "stream",
     "text": [
      "Total url in the json: 58852\n"
     ]
    }
   ],
   "source": [
    "print(\"Total url in the json:\",df.shape[0])\n",
    "dt=df.value_counts(['url']).reset_index(name=\"count\") "
   ]
  },
  {
   "cell_type": "code",
   "execution_count": 3,
   "metadata": {
    "ExecuteTime": {
     "end_time": "2022-03-16T16:19:28.848687Z",
     "start_time": "2022-03-16T16:19:28.826698Z"
    }
   },
   "outputs": [
    {
     "name": "stdout",
     "output_type": "stream",
     "text": [
      "Duplicated url: 256\n"
     ]
    }
   ],
   "source": [
    "print(\"Duplicated url:\",dt[dt[\"count\"]>1][\"count\"].sum())"
   ]
  },
  {
   "cell_type": "code",
   "execution_count": 4,
   "metadata": {
    "ExecuteTime": {
     "end_time": "2022-03-16T16:19:29.635190Z",
     "start_time": "2022-03-16T16:19:29.603612Z"
    }
   },
   "outputs": [
    {
     "data": {
      "text/html": [
       "<div>\n",
       "<style scoped>\n",
       "    .dataframe tbody tr th:only-of-type {\n",
       "        vertical-align: middle;\n",
       "    }\n",
       "\n",
       "    .dataframe tbody tr th {\n",
       "        vertical-align: top;\n",
       "    }\n",
       "\n",
       "    .dataframe thead th {\n",
       "        text-align: right;\n",
       "    }\n",
       "</style>\n",
       "<table border=\"1\" class=\"dataframe\">\n",
       "  <thead>\n",
       "    <tr style=\"text-align: right;\">\n",
       "      <th></th>\n",
       "      <th>url</th>\n",
       "      <th>count</th>\n",
       "    </tr>\n",
       "  </thead>\n",
       "  <tbody>\n",
       "    <tr>\n",
       "      <th>3</th>\n",
       "      <td>http://dds.edu.ua/articles/2/digitalized-tradi...</td>\n",
       "      <td>2</td>\n",
       "    </tr>\n",
       "    <tr>\n",
       "      <th>6</th>\n",
       "      <td>http://dds.edu.ua/articles/2/digitalized-tradi...</td>\n",
       "      <td>2</td>\n",
       "    </tr>\n",
       "    <tr>\n",
       "      <th>34</th>\n",
       "      <td>http://dds.edu.ua/articles/2/slovo/2004.html?f...</td>\n",
       "      <td>2</td>\n",
       "    </tr>\n",
       "    <tr>\n",
       "      <th>35</th>\n",
       "      <td>http://dds.edu.ua/articles/2/slovo/2004.html?f...</td>\n",
       "      <td>2</td>\n",
       "    </tr>\n",
       "    <tr>\n",
       "      <th>109</th>\n",
       "      <td>http://dds.edu.ua/articles/2/slovo/2006.html?f...</td>\n",
       "      <td>2</td>\n",
       "    </tr>\n",
       "    <tr>\n",
       "      <th>...</th>\n",
       "      <td>...</td>\n",
       "      <td>...</td>\n",
       "    </tr>\n",
       "    <tr>\n",
       "      <th>86</th>\n",
       "      <td>http://dds.edu.ua/ua/life/2/quo-vadis/photo/3-...</td>\n",
       "      <td>2</td>\n",
       "    </tr>\n",
       "    <tr>\n",
       "      <th>80</th>\n",
       "      <td>http://dds.edu.ua/ua/life/2/quo-vadis/photo/3-...</td>\n",
       "      <td>2</td>\n",
       "    </tr>\n",
       "    <tr>\n",
       "      <th>70</th>\n",
       "      <td>http://dds.edu.ua/ua/life/2/quo-vadis/photo/3-...</td>\n",
       "      <td>2</td>\n",
       "    </tr>\n",
       "    <tr>\n",
       "      <th>65</th>\n",
       "      <td>http://dds.edu.ua/ua/life/2/quo-vadis/photo/3-...</td>\n",
       "      <td>2</td>\n",
       "    </tr>\n",
       "    <tr>\n",
       "      <th>64</th>\n",
       "      <td>http://dds.edu.ua/ua/life/2/quo-vadis/photo/3-...</td>\n",
       "      <td>2</td>\n",
       "    </tr>\n",
       "  </tbody>\n",
       "</table>\n",
       "<p>128 rows × 2 columns</p>\n",
       "</div>"
      ],
      "text/plain": [
       "                                                   url  count\n",
       "3    http://dds.edu.ua/articles/2/digitalized-tradi...      2\n",
       "6    http://dds.edu.ua/articles/2/digitalized-tradi...      2\n",
       "34   http://dds.edu.ua/articles/2/slovo/2004.html?f...      2\n",
       "35   http://dds.edu.ua/articles/2/slovo/2004.html?f...      2\n",
       "109  http://dds.edu.ua/articles/2/slovo/2006.html?f...      2\n",
       "..                                                 ...    ...\n",
       "86   http://dds.edu.ua/ua/life/2/quo-vadis/photo/3-...      2\n",
       "80   http://dds.edu.ua/ua/life/2/quo-vadis/photo/3-...      2\n",
       "70   http://dds.edu.ua/ua/life/2/quo-vadis/photo/3-...      2\n",
       "65   http://dds.edu.ua/ua/life/2/quo-vadis/photo/3-...      2\n",
       "64   http://dds.edu.ua/ua/life/2/quo-vadis/photo/3-...      2\n",
       "\n",
       "[128 rows x 2 columns]"
      ]
     },
     "execution_count": 4,
     "metadata": {},
     "output_type": "execute_result"
    }
   ],
   "source": [
    "dt[dt[\"count\"]>1].sort_values(\"url\")"
   ]
  },
  {
   "cell_type": "code",
   "execution_count": 5,
   "metadata": {
    "ExecuteTime": {
     "end_time": "2022-03-16T16:19:30.851514Z",
     "start_time": "2022-03-16T16:19:30.810516Z"
    }
   },
   "outputs": [],
   "source": [
    "dt[dt[\"count\"]>1].to_html(open('occurrenciesJson.html', 'w'))"
   ]
  },
  {
   "cell_type": "code",
   "execution_count": null,
   "metadata": {},
   "outputs": [],
   "source": []
  }
 ],
 "metadata": {
  "kernelspec": {
   "display_name": "Python 3",
   "language": "python",
   "name": "python3"
  },
  "language_info": {
   "codemirror_mode": {
    "name": "ipython",
    "version": 3
   },
   "file_extension": ".py",
   "mimetype": "text/x-python",
   "name": "python",
   "nbconvert_exporter": "python",
   "pygments_lexer": "ipython3",
   "version": "3.8.10"
  },
  "toc": {
   "base_numbering": 1,
   "nav_menu": {},
   "number_sections": true,
   "sideBar": true,
   "skip_h1_title": false,
   "title_cell": "Table of Contents",
   "title_sidebar": "Contents",
   "toc_cell": false,
   "toc_position": {},
   "toc_section_display": true,
   "toc_window_display": false
  },
  "varInspector": {
   "cols": {
    "lenName": 16,
    "lenType": 16,
    "lenVar": 40
   },
   "kernels_config": {
    "python": {
     "delete_cmd_postfix": "",
     "delete_cmd_prefix": "del ",
     "library": "var_list.py",
     "varRefreshCmd": "print(var_dic_list())"
    },
    "r": {
     "delete_cmd_postfix": ") ",
     "delete_cmd_prefix": "rm(",
     "library": "var_list.r",
     "varRefreshCmd": "cat(var_dic_list()) "
    }
   },
   "types_to_exclude": [
    "module",
    "function",
    "builtin_function_or_method",
    "instance",
    "_Feature"
   ],
   "window_display": false
  }
 },
 "nbformat": 4,
 "nbformat_minor": 4
}
