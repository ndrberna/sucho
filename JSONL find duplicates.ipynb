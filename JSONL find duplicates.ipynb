{
 "cells": [
  {
   "cell_type": "code",
   "execution_count": null,
   "metadata": {
    "ExecuteTime": {
     "end_time": "2022-03-16T16:04:20.961815Z",
     "start_time": "2022-03-16T16:04:11.949709Z"
    }
   },
   "outputs": [],
   "source": [
    "import os\n",
    "import pandas as pd\n",
    "pd.set_option('max_colwidth', None)\n",
    "pd.set_option('max_rows', None)\n",
    "pd.set_option(\"expand_frame_repr\", False)\n",
    "\n",
    "filename=r'C:\\Users\\abern\\crawling\\crawls\\crawls\\collections\\dds-edu-ua\\pages\\pages.jsonl'\n",
    "df=pd.read_json(filename, lines=True)\n",
    "df.head(5)"
   ]
  },
  {
   "cell_type": "code",
   "execution_count": null,
   "metadata": {
    "ExecuteTime": {
     "end_time": "2022-03-16T16:04:44.152492Z",
     "start_time": "2022-03-16T16:04:43.699063Z"
    }
   },
   "outputs": [],
   "source": [
    "print(\"Total url in the json:\",df.shape[0])\n",
    "dt=df.value_counts(['url']).reset_index(name=\"count\") \n",
    "print(\"Duplicated url:\",dt[dt[\"count\"]>1][\"count\"].sum())\n",
    "dt[dt[\"count\"]>1].sort_values(\"url\")"
   ]
  },
  {
   "cell_type": "code",
   "execution_count": null,
   "metadata": {
    "ExecuteTime": {
     "end_time": "2022-03-16T16:04:23.169293Z",
     "start_time": "2022-03-16T16:04:12.009Z"
    }
   },
   "outputs": [],
   "source": [
    "dt[dt[\"count\"]>1].to_html(open('occurrenciesJson.html', 'w'))"
   ]
  }
 ],
 "metadata": {
  "kernelspec": {
   "display_name": "Python 3",
   "language": "python",
   "name": "python3"
  },
  "language_info": {
   "codemirror_mode": {
    "name": "ipython",
    "version": 3
   },
   "file_extension": ".py",
   "mimetype": "text/x-python",
   "name": "python",
   "nbconvert_exporter": "python",
   "pygments_lexer": "ipython3",
   "version": "3.8.10"
  },
  "toc": {
   "base_numbering": 1,
   "nav_menu": {},
   "number_sections": true,
   "sideBar": true,
   "skip_h1_title": false,
   "title_cell": "Table of Contents",
   "title_sidebar": "Contents",
   "toc_cell": false,
   "toc_position": {},
   "toc_section_display": true,
   "toc_window_display": false
  },
  "varInspector": {
   "cols": {
    "lenName": 16,
    "lenType": 16,
    "lenVar": 40
   },
   "kernels_config": {
    "python": {
     "delete_cmd_postfix": "",
     "delete_cmd_prefix": "del ",
     "library": "var_list.py",
     "varRefreshCmd": "print(var_dic_list())"
    },
    "r": {
     "delete_cmd_postfix": ") ",
     "delete_cmd_prefix": "rm(",
     "library": "var_list.r",
     "varRefreshCmd": "cat(var_dic_list()) "
    }
   },
   "types_to_exclude": [
    "module",
    "function",
    "builtin_function_or_method",
    "instance",
    "_Feature"
   ],
   "window_display": false
  }
 },
 "nbformat": 4,
 "nbformat_minor": 4
}
