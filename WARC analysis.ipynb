{
 "cells": [
  {
   "cell_type": "code",
   "execution_count": 8,
   "metadata": {
    "ExecuteTime": {
     "end_time": "2022-03-16T14:19:21.475046Z",
     "start_time": "2022-03-16T14:19:21.448042Z"
    }
   },
   "outputs": [],
   "source": [
    "import warcio\n",
    "from warcio.archiveiterator import ArchiveIterator\n",
    "import os\n",
    "import pathlib\n",
    "import pandas as pd\n",
    "from collections import Counter\n",
    "import re\n",
    "import pandas as pd\n",
    "pd.set_option('max_colwidth', None)\n",
    "#pd.set_option('max_rows', None)\n",
    "pd.set_option(\"expand_frame_repr\", False) "
   ]
  },
  {
   "cell_type": "code",
   "execution_count": 2,
   "metadata": {
    "ExecuteTime": {
     "end_time": "2022-03-16T14:07:32.666964Z",
     "start_time": "2022-03-16T14:04:49.668771Z"
    }
   },
   "outputs": [
    {
     "name": "stdout",
     "output_type": "stream",
     "text": [
      "C:\\Users\\abern\\crawling\\crawls\\crawls\\collections\\dds-edu-ua\\archive\\rec-20220315062253005786-18bca3962ab1.warc.gz\n",
      "C:\\Users\\abern\\crawling\\crawls\\crawls\\collections\\dds-edu-ua\\archive\\rec-20220315062253338984-18bca3962ab1.warc.gz\n",
      "C:\\Users\\abern\\crawling\\crawls\\crawls\\collections\\dds-edu-ua\\archive\\rec-20220315062253518165-18bca3962ab1.warc.gz\n",
      "C:\\Users\\abern\\crawling\\crawls\\crawls\\collections\\dds-edu-ua\\archive\\rec-20220315062253558643-18bca3962ab1.warc.gz\n",
      "C:\\Users\\abern\\crawling\\crawls\\crawls\\collections\\dds-edu-ua\\archive\\rec-20220315062253599356-18bca3962ab1.warc.gz\n",
      "C:\\Users\\abern\\crawling\\crawls\\crawls\\collections\\dds-edu-ua\\archive\\rec-20220315062253665158-18bca3962ab1.warc.gz\n",
      "C:\\Users\\abern\\crawling\\crawls\\crawls\\collections\\dds-edu-ua\\archive\\rec-20220315062253694302-18bca3962ab1.warc.gz\n",
      "C:\\Users\\abern\\crawling\\crawls\\crawls\\collections\\dds-edu-ua\\archive\\rec-20220315062253865560-18bca3962ab1.warc.gz\n",
      "C:\\Users\\abern\\crawling\\crawls\\crawls\\collections\\dds-edu-ua\\archive\\rec-20220315112743421186-ed12d6ccc519.warc.gz\n",
      "C:\\Users\\abern\\crawling\\crawls\\crawls\\collections\\dds-edu-ua\\archive\\rec-20220315112743561730-ed12d6ccc519.warc.gz\n",
      "C:\\Users\\abern\\crawling\\crawls\\crawls\\collections\\dds-edu-ua\\archive\\rec-20220315112745560986-ed12d6ccc519.warc.gz\n",
      "C:\\Users\\abern\\crawling\\crawls\\crawls\\collections\\dds-edu-ua\\archive\\rec-20220315112745951243-ed12d6ccc519.warc.gz\n",
      "C:\\Users\\abern\\crawling\\crawls\\crawls\\collections\\dds-edu-ua\\archive\\rec-20220315112747020699-ed12d6ccc519.warc.gz\n",
      "C:\\Users\\abern\\crawling\\crawls\\crawls\\collections\\dds-edu-ua\\archive\\rec-20220315112748094749-ed12d6ccc519.warc.gz\n",
      "C:\\Users\\abern\\crawling\\crawls\\crawls\\collections\\dds-edu-ua\\archive\\rec-20220315112748402350-ed12d6ccc519.warc.gz\n",
      "C:\\Users\\abern\\crawling\\crawls\\crawls\\collections\\dds-edu-ua\\archive\\rec-20220315112748520398-ed12d6ccc519.warc.gz\n",
      "C:\\Users\\abern\\crawling\\crawls\\crawls\\collections\\dds-edu-ua\\archive\\rec-20220315205135870587-ed12d6ccc519.warc.gz\n",
      "C:\\Users\\abern\\crawling\\crawls\\crawls\\collections\\dds-edu-ua\\archive\\rec-20220316071248358100-ed12d6ccc519.warc.gz\n",
      "C:\\Users\\abern\\crawling\\crawls\\crawls\\collections\\dds-edu-ua\\archive\\rec-20220316085959166281-ed12d6ccc519.warc.gz\n",
      "C:\\Users\\abern\\crawling\\crawls\\crawls\\collections\\dds-edu-ua\\archive\\rec-20220316093457307022-ed12d6ccc519.warc.gz\n"
     ]
    }
   ],
   "source": [
    "urls_requests = []\n",
    "urls_response = []\n",
    "libpath=r'C:\\Users\\abern\\crawling\\crawls\\crawls\\collections\\dds-edu-ua\\archive'\n",
    "for filename in list(pathlib.Path(libpath).glob('*.gz')):\n",
    "    print (filename)\n",
    "    with open(filename, 'rb') as stream:\n",
    "        for record in ArchiveIterator(stream):\n",
    "            if record.rec_type == 'request':\n",
    "                urls_requests.append(record.rec_headers.get_header('WARC-Target-URI'))\n",
    "            if record.rec_type == 'response':\n",
    "                urls_response.append(record.rec_headers.get_header('WARC-Target-URI'))"
   ]
  },
  {
   "cell_type": "code",
   "execution_count": 3,
   "metadata": {
    "ExecuteTime": {
     "end_time": "2022-03-16T14:07:32.893329Z",
     "start_time": "2022-03-16T14:07:32.685352Z"
    }
   },
   "outputs": [
    {
     "name": "stdout",
     "output_type": "stream",
     "text": [
      "Recorded url requests: 94321\n",
      "Recorded url response: 94321\n"
     ]
    }
   ],
   "source": [
    "print(\"Recorded url requests:\",len(urls_requests))\n",
    "print(\"Recorded url response:\",len(urls_response))\n",
    "c_requests=Counter(urls_requests)\n",
    "c_response=Counter(urls_response)"
   ]
  },
  {
   "cell_type": "code",
   "execution_count": 7,
   "metadata": {
    "ExecuteTime": {
     "end_time": "2022-03-16T14:10:27.904394Z",
     "start_time": "2022-03-16T14:10:27.469495Z"
    }
   },
   "outputs": [],
   "source": [
    "df = pd.DataFrame.from_records(list(dict(c_response).items()),columns=['url','count'])"
   ]
  },
  {
   "cell_type": "code",
   "execution_count": 9,
   "metadata": {
    "ExecuteTime": {
     "end_time": "2022-03-16T14:20:59.785865Z",
     "start_time": "2022-03-16T14:20:59.632683Z"
    }
   },
   "outputs": [
    {
     "name": "stdout",
     "output_type": "stream",
     "text": [
      "Duplicated urls: 7747\n"
     ]
    }
   ],
   "source": [
    "print (\"Duplicated urls:\",df[\"count\"][df[\"count\"]>1].sum())"
   ]
  },
  {
   "cell_type": "code",
   "execution_count": null,
   "metadata": {
    "ExecuteTime": {
     "end_time": "2022-03-16T14:07:33.916724Z",
     "start_time": "2022-03-16T14:04:45.630Z"
    }
   },
   "outputs": [],
   "source": [
    "df[df[\"count\"]>1].sort_values(by=['count'], ascending=False).head(100).style.hide_index()"
   ]
  }
 ],
 "metadata": {
  "kernelspec": {
   "display_name": "Python 3",
   "language": "python",
   "name": "python3"
  },
  "language_info": {
   "codemirror_mode": {
    "name": "ipython",
    "version": 3
   },
   "file_extension": ".py",
   "mimetype": "text/x-python",
   "name": "python",
   "nbconvert_exporter": "python",
   "pygments_lexer": "ipython3",
   "version": "3.8.10"
  },
  "toc": {
   "base_numbering": 1,
   "nav_menu": {},
   "number_sections": true,
   "sideBar": true,
   "skip_h1_title": false,
   "title_cell": "Table of Contents",
   "title_sidebar": "Contents",
   "toc_cell": false,
   "toc_position": {},
   "toc_section_display": true,
   "toc_window_display": false
  },
  "varInspector": {
   "cols": {
    "lenName": 16,
    "lenType": 16,
    "lenVar": 40
   },
   "kernels_config": {
    "python": {
     "delete_cmd_postfix": "",
     "delete_cmd_prefix": "del ",
     "library": "var_list.py",
     "varRefreshCmd": "print(var_dic_list())"
    },
    "r": {
     "delete_cmd_postfix": ") ",
     "delete_cmd_prefix": "rm(",
     "library": "var_list.r",
     "varRefreshCmd": "cat(var_dic_list()) "
    }
   },
   "types_to_exclude": [
    "module",
    "function",
    "builtin_function_or_method",
    "instance",
    "_Feature"
   ],
   "window_display": false
  }
 },
 "nbformat": 4,
 "nbformat_minor": 4
}
