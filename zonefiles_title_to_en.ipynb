{
 "cells": [
  {
   "cell_type": "code",
   "execution_count": null,
   "id": "03ea9cd1-14ea-4b52-937d-0b09cf2a85ed",
   "metadata": {},
   "outputs": [],
   "source": [
    "#!pip install googletrans\n",
    "#! pip install ipyparallel \n",
    "#!pip install -U easynmt\n",
    "import pandas as pd\n",
    "import sys\n",
    "import os\n",
    "import lib\n",
    "import glob\n",
    "#from easynmt import EasyNMT\n",
    "sys.setrecursionlimit(10000) \n",
    "root =r'C:\\\\Users\\\\abern\\\\crawling\\\\'\n",
    "#model = EasyNMT('opus-mt')\n",
    "#model = EasyNMT('mbart50_m2en')"
   ]
  },
  {
   "cell_type": "code",
   "execution_count": null,
   "id": "a6c69c68-2f7b-4d39-bf11-4238aaa80285",
   "metadata": {},
   "outputs": [],
   "source": [
    "#model.translate('Серіал Школа: дивися всі серії на Школа', target_lang='en')"
   ]
  },
  {
   "cell_type": "code",
   "execution_count": null,
   "id": "a8fcb6ed-3ba5-472e-8c36-eb427b1dcf61",
   "metadata": {},
   "outputs": [],
   "source": [
    "#lib.getTranslateMNT('Серіал Школа: дивися всі серії на Школа')\n",
    "lib.getTranslateGoogle('Серіал Школа: дивися всі серії на Школа')"
   ]
  },
  {
   "cell_type": "raw",
   "id": "f1634383-5fcc-4f36-b6d2-99ea6ab1b612",
   "metadata": {},
   "source": [
    "df=pd.DataFrame()\n",
    "for name in glob.glob(r'C:\\Users\\abern\\crawling\\output\\risultati_xjn*'):\n",
    "        \n",
    "df=df.append(pd.read_csv(name,index_col=0,encoding = 'utf8',sep=','))\n",
    "df=df.reset_index()\n",
    "df['response_code'] = df['response_code'].fillna(0)\n",
    "df['size'] = df['size'].fillna(0) \n",
    "df['html_title'] = df['html_title'].fillna(\"\") \n",
    "df['guessed_language'] = df['guessed_language'].fillna(\"\") \n",
    "#df['title_translate'] = df['title_translate'].fillna(\"\").apply(lambda x: x.lower())\n",
    "df['response_code'] = df['response_code'].astype(\"int32\")\n",
    "df=df[(df['response_code']==200) & (df['html_title']!=\"\")]\n",
    "#df=df.reset_index()\n",
    "df=df.drop_duplicates()\n",
    "df"
   ]
  },
  {
   "cell_type": "code",
   "execution_count": null,
   "id": "42d20e71-e3f3-4c1a-bfc2-574b70ed29ef",
   "metadata": {},
   "outputs": [],
   "source": [
    "results=[]\n",
    "\n",
    "def raw(string: str, replace: bool = False) -> str:\n",
    "    \"\"\"Returns the raw representation of a string. If replace is true, replace a single backslash's repr \\\\ with \\.\"\"\"\n",
    "    r = repr(string)[1:-1]  # Strip the quotes from representation\n",
    "    if replace:\n",
    "        r = r.replace('\\\\\\\\', '\\\\')\n",
    "    return r\n",
    "\n",
    "\n",
    "for i in glob.glob(r'C:\\Users\\abern\\crawling\\output\\risultati_xjn*'):\n",
    "    df=pd.DataFrame()\n",
    "    name=i.split('\\\\')[-1]\n",
    "    #print(r'C:\\Users\\abern\\crawling\\en\\\\'+name)\n",
    "    if not  glob.glob((r'C:\\Users\\abern\\crawling\\en\\\\'+name)):\n",
    "        results.append(raw(i))\n",
    "len(results)\n"
   ]
  },
  {
   "cell_type": "raw",
   "id": "554376c3-e751-438a-ab07-490b3cc35d71",
   "metadata": {},
   "source": [
    "def title_to_en(i):\n",
    "    \n",
    "        import pandas\n",
    "        import lib\n",
    "        name=name=i.split('\\\\')[-1]\n",
    "        print (\"Processing:\",name)\n",
    "        try:\n",
    "            df=pandas.read_csv(i,index_col=0,encoding = 'utf8',quotechar='\"',sep ='\\t')\n",
    "            \n",
    "        except:\n",
    "            \n",
    "            df=pandas.read_csv(i,index_col=0,encoding = 'utf8',sep=',')\n",
    "        \n",
    "        df['response_code'] = df['response_code'].fillna(0)\n",
    "        df['size'] = df['size'].fillna(0) \n",
    "        df['html_title'] = df['html_title'].fillna(\"\") \n",
    "        df=df[(df['response_code']==200) & (df['html_title']!=\"\")]\n",
    "        print(df.shape)\n",
    "        df['guessed_language'] = df['guessed_language'].fillna(\"\") \n",
    "        df['title_translate'] = df['html_title'].map(lib.getTranslateGoogle)\n",
    "        df['title_translate'] = df['title_translate'].fillna(\"\").apply(lambda x: x.lower())\n",
    "        df['response_code'] = df['response_code'].astype(\"int32\")\n",
    "        df=df[(df['response_code']==200) & (df['html_title']!=\"\")]\n",
    "        df.to_csv(r'C:\\Users\\abern\\crawling\\en\\\\'+name,index=False)\n",
    "        print(\"Writing to file:\",r'C:\\Users\\abern\\crawling\\en\\\\'+name)\n",
    "\n"
   ]
  },
  {
   "cell_type": "raw",
   "id": "e06c0bb0-c97d-4eac-91ce-8f02ed7aefe7",
   "metadata": {},
   "source": [
    "import ipyparallel as ipp\n",
    "import os\n",
    "import pandas as pd\n",
    "import glob\n",
    "results=[]\n",
    "for i in glob.glob(r'C:\\Users\\abern\\crawling\\output\\risultati_xjn*'):\n",
    "    df=pd.DataFrame()\n",
    "    name=i.split('\\\\')[-1]\n",
    "    #print(r'C:\\Users\\abern\\crawling\\en\\\\'+name)\n",
    "    if not  glob.glob((r'C:\\Users\\abern\\crawling\\en\\\\'+name)):\n",
    "        results.append(raw(i))\n",
    "\n",
    "print (len(results))\n",
    "with ipp.Cluster() as rc:\n",
    "    view = rc.load_balanced_view()\n",
    "    \n",
    "    asyncresult = view.map_async(title_to_en, results)\n",
    "    asyncresult.wait_interactive()\n",
    "    records = asyncresult.get()\n",
    "    "
   ]
  },
  {
   "cell_type": "raw",
   "id": "b2510449-b189-435b-8ea5-2b3b64d72e31",
   "metadata": {},
   "source": [
    " def _getTranslateMNT(text):\n",
    "        return getTranslateMNT(text, target_lang='en')"
   ]
  },
  {
   "cell_type": "raw",
   "id": "91bcbe2b-bb4b-4f75-a87a-62fa4957afe9",
   "metadata": {},
   "source": [
    "\n",
    "df=pd.read_csv(r'C:\\Users\\abern\\crawling\\output\\risultati_xjn_1_171000_domains.csv',index_col=0,encoding = 'utf8',quotechar='\"',sep ='\\t')\n",
    "\n",
    "df.head()"
   ]
  },
  {
   "cell_type": "raw",
   "id": "3331940f-a242-47ad-8f17-8f94270b717e",
   "metadata": {},
   "source": [
    "#df['title_translate']=df['html_title'].apply(lambda x: getTranslateMNT(x))\n",
    "#df['title_translate']=df['html_title'].apply(lambda x: model.translate(x, target_lang='en'))\n",
    "#df['title_translate']=df['html_title'].apply(lambda x: model.translate(x, target_lang='en'))\n",
    "df['title_translate']=\"\"\n",
    "\n",
    "model.translate('Серіал Школа: дивися всі серії на Школа', target_lang='en')\n",
    "for row in df.head().itertuples():\n",
    "    #print (row.html_title)\n",
    "    df.at[row.Index, \"title_translate\"] = model.translate(str(row.html_title), target_lang='en') \n",
    "    \n",
    "df.head()"
   ]
  },
  {
   "cell_type": "raw",
   "id": "ba0beb45-b422-4a64-84f4-c3de333778b2",
   "metadata": {},
   "source": [
    "df.head()"
   ]
  },
  {
   "cell_type": "code",
   "execution_count": null,
   "id": "1407ea8b-7da9-4697-96f9-f60242ec100f",
   "metadata": {},
   "outputs": [],
   "source": [
    "for i in glob.glob(r'C:\\Users\\abern\\crawling\\output\\risultati_xjn*'):\n",
    "    df=pd.DataFrame()\n",
    "    name=i.split('\\\\')[-1]\n",
    "    #print(r'C:\\Users\\abern\\crawling\\en\\\\'+name)\n",
    "    if not  glob.glob((r'C:\\Users\\abern\\crawling\\en\\\\'+name)):\n",
    "        print (\"Processing:\",name)\n",
    "        try:\n",
    "            df=pd.read_csv(i,index_col=0,encoding = 'utf8',quotechar='\"',sep ='\\t')\n",
    "            \n",
    "        except:\n",
    "            \n",
    "            df=pd.read_csv(i,index_col=0,encoding = 'utf8',sep=',')\n",
    "        \n",
    "        df['response_code'] = df['response_code'].fillna(0)\n",
    "        df['size'] = df['size'].fillna(0) \n",
    "        df['html_title'] = df['html_title'].fillna(\"\") \n",
    "        df=df[(df['response_code']==200) & (df['html_title']!=\"\")]\n",
    "        print(df.shape)\n",
    "        df['guessed_language'] = df['guessed_language'].fillna(\"\") \n",
    "        df['title_translate']=\"\"\n",
    "        df['title_translate']=df['html_title'].map(lib.getTranslateGoogle)\n",
    "        #df['title_translate']=df['html_title'].apply(lambda x: lib.getTranslateGoogle(x))\n",
    "\n",
    "        #for row in df.itertuples():\n",
    "        #    df.at[row.Index, \"title_translate\"] = model.translate(str(row.html_title), target_lang='en') \n",
    "        df['title_translate'] = df['title_translate'].fillna(\"\").apply(lambda x: x.lower())\n",
    "        df['response_code'] = df['response_code'].astype(\"int32\")\n",
    "        #df=df[(df['response_code']==200) & (df['html_title']!=\"\")]\n",
    "        df.to_csv(r'C:\\Users\\abern\\crawling\\en\\\\'+name,index=False)\n",
    "        print(\"Writing to file:\",r'C:\\Users\\abern\\crawling\\en\\\\'+name)\n",
    "    else:\n",
    "        print (name, \"Exists in en dir\")"
   ]
  },
  {
   "cell_type": "code",
   "execution_count": null,
   "id": "bc692952-b6dd-4307-90be-1d4783fb853e",
   "metadata": {},
   "outputs": [],
   "source": [
    "df=pd.read_csv(r'C:\\Users\\abern\\crawling\\output\\\\risultati_xjn_1_11000_domains.csv')\n",
    "df"
   ]
  }
 ],
 "metadata": {
  "kernelspec": {
   "display_name": "Python 3",
   "language": "python",
   "name": "python3"
  },
  "language_info": {
   "codemirror_mode": {
    "name": "ipython",
    "version": 3
   },
   "file_extension": ".py",
   "mimetype": "text/x-python",
   "name": "python",
   "nbconvert_exporter": "python",
   "pygments_lexer": "ipython3",
   "version": "3.8.10"
  }
 },
 "nbformat": 4,
 "nbformat_minor": 5
}
